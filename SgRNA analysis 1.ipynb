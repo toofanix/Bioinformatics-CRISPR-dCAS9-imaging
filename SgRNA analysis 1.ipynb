{
 "cells": [
  {
   "cell_type": "markdown",
   "metadata": {
    "deletable": true,
    "editable": true
   },
   "source": [
    "\n",
    "# Tandem Repeat analysis\n",
    "#### Written by Jigar N. Bandaria\n",
    "\n",
    "I have developed this pipeline to find tandem repeats in the human genome that can be used for CAS9 based imaging. This series of ipython notebooks, filters out sequences based on some criteria that we applied for imaging in the manuscript:\n",
    "\"Live cell imaging of low- and non-repetitive chromosome loci using CRISPR/Cas9\", Qin et.al. Nature Comm. \n",
    "\n",
    "Follow the notebooks in the following order:\n",
    "1. sgRNA analysis 1.\n",
    "2. sgRNA analysis 2.\n",
    "3. sgRNA analysis 3.\n",
    "4. Counting sgRNA.\n",
    "5. Remove reverse complement.\n",
    "6. Recheck after remove rev comp.\n",
    "\n",
    "The scripts are written to analyze sequences within a 10 kb window. The initial analysis to generate potential target sequence was done using a combination of Bowtie1, Samtools and Bedtools. The bash scripts are in the repository too. Use these to first generate the sequence and then use these notebooks.\n"
   ]
  },
  {
   "cell_type": "code",
   "execution_count": 1,
   "metadata": {
    "collapsed": true,
    "deletable": true,
    "editable": true
   },
   "outputs": [],
   "source": [
    "%matplotlib inline\n",
    "import pandas as pd\n",
    "import numpy as np\n",
    "import matplotlib.pyplot as plt\n",
    "import subprocess as sp\n",
    "import os"
   ]
  },
  {
   "cell_type": "code",
   "execution_count": 1,
   "metadata": {
    "collapsed": false,
    "deletable": true,
    "editable": true
   },
   "outputs": [
    {
     "data": {
      "text/plain": [
       "'/home/user/Desktop/nt_20/PAMs/PAM1_chrY.fa'"
      ]
     },
     "execution_count": 1,
     "metadata": {},
     "output_type": "execute_result"
    }
   ],
   "source": [
    "#The bash script generates a file containing all the sgRNA for each Chromosome. \n",
    "#Below I am running a test on Chromosome Y.\n",
    "file_path = \"/home/user/Desktop/nt_20/PAMs\"\n",
    "\n",
    "filename = file_path+\"/PAM1_chrY.fa\"\n",
    "filename"
   ]
  },
  {
   "cell_type": "code",
   "execution_count": 4,
   "metadata": {
    "collapsed": false,
    "deletable": true,
    "editable": true
   },
   "outputs": [
    {
     "data": {
      "text/html": [
       "<div>\n",
       "<table border=\"1\" class=\"dataframe\">\n",
       "  <thead>\n",
       "    <tr style=\"text-align: right;\">\n",
       "      <th></th>\n",
       "      <th>chr_p</th>\n",
       "      <th>seq</th>\n",
       "    </tr>\n",
       "  </thead>\n",
       "  <tbody>\n",
       "    <tr>\n",
       "      <th>0</th>\n",
       "      <td>chrY:10007-10024(-)</td>\n",
       "      <td>ggttagggttagggtta</td>\n",
       "    </tr>\n",
       "    <tr>\n",
       "      <th>1</th>\n",
       "      <td>chrY:10008-10025(-)</td>\n",
       "      <td>gggttagggttagggtt</td>\n",
       "    </tr>\n",
       "    <tr>\n",
       "      <th>2</th>\n",
       "      <td>chrY:10013-10030(-)</td>\n",
       "      <td>ggttagggttagggtta</td>\n",
       "    </tr>\n",
       "    <tr>\n",
       "      <th>3</th>\n",
       "      <td>chrY:10014-10031(-)</td>\n",
       "      <td>gggttagggttagggtt</td>\n",
       "    </tr>\n",
       "    <tr>\n",
       "      <th>4</th>\n",
       "      <td>chrY:10019-10036(-)</td>\n",
       "      <td>ggttagggttagggtta</td>\n",
       "    </tr>\n",
       "  </tbody>\n",
       "</table>\n",
       "</div>"
      ],
      "text/plain": [
       "                 chr_p                seq\n",
       "0  chrY:10007-10024(-)  ggttagggttagggtta\n",
       "1  chrY:10008-10025(-)  gggttagggttagggtt\n",
       "2  chrY:10013-10030(-)  ggttagggttagggtta\n",
       "3  chrY:10014-10031(-)  gggttagggttagggtt\n",
       "4  chrY:10019-10036(-)  ggttagggttagggtta"
      ]
     },
     "execution_count": 4,
     "metadata": {},
     "output_type": "execute_result"
    }
   ],
   "source": [
    "#Below is the chromosome, position and sequence information for Chromosome Y\n",
    "data = pd.read_table(filename,header=None,names=['chr_p','seq'])\n",
    "data.head()"
   ]
  },
  {
   "cell_type": "code",
   "execution_count": 5,
   "metadata": {
    "collapsed": false,
    "deletable": true,
    "editable": true
   },
   "outputs": [
    {
     "data": {
      "text/plain": [
       "1943852"
      ]
     },
     "execution_count": 5,
     "metadata": {},
     "output_type": "execute_result"
    }
   ],
   "source": [
    "data['seq']=data.seq.str.upper() #convert evertything to upper case\n",
    "data.head(10)\n",
    "len(data)"
   ]
  },
  {
   "cell_type": "code",
   "execution_count": 6,
   "metadata": {
    "collapsed": false,
    "deletable": true,
    "editable": true
   },
   "outputs": [
    {
     "data": {
      "text/html": [
       "<div>\n",
       "<table border=\"1\" class=\"dataframe\">\n",
       "  <thead>\n",
       "    <tr style=\"text-align: right;\">\n",
       "      <th></th>\n",
       "      <th>chr_p</th>\n",
       "      <th>seq</th>\n",
       "    </tr>\n",
       "  </thead>\n",
       "  <tbody>\n",
       "    <tr>\n",
       "      <th>0</th>\n",
       "      <td>chrY:10007-10024(-)</td>\n",
       "      <td>GGTTAGGGTTAGGGTTA</td>\n",
       "    </tr>\n",
       "    <tr>\n",
       "      <th>1</th>\n",
       "      <td>chrY:10008-10025(-)</td>\n",
       "      <td>GGGTTAGGGTTAGGGTT</td>\n",
       "    </tr>\n",
       "    <tr>\n",
       "      <th>2</th>\n",
       "      <td>chrY:10013-10030(-)</td>\n",
       "      <td>GGTTAGGGTTAGGGTTA</td>\n",
       "    </tr>\n",
       "    <tr>\n",
       "      <th>3</th>\n",
       "      <td>chrY:10014-10031(-)</td>\n",
       "      <td>GGGTTAGGGTTAGGGTT</td>\n",
       "    </tr>\n",
       "    <tr>\n",
       "      <th>4</th>\n",
       "      <td>chrY:10019-10036(-)</td>\n",
       "      <td>GGTTAGGGTTAGGGTTA</td>\n",
       "    </tr>\n",
       "    <tr>\n",
       "      <th>5</th>\n",
       "      <td>chrY:10020-10037(-)</td>\n",
       "      <td>GGGTTAGGGTTAGGGTT</td>\n",
       "    </tr>\n",
       "    <tr>\n",
       "      <th>13</th>\n",
       "      <td>chrY:10052-10069(-)</td>\n",
       "      <td>ACCCACATCCTGCTGAT</td>\n",
       "    </tr>\n",
       "    <tr>\n",
       "      <th>18</th>\n",
       "      <td>chrY:10052-10069(+)</td>\n",
       "      <td>ATCAGCAGGATGTGGGT</td>\n",
       "    </tr>\n",
       "    <tr>\n",
       "      <th>19</th>\n",
       "      <td>chrY:10102-10119(-)</td>\n",
       "      <td>GTTGCCACTGCTGGCTC</td>\n",
       "    </tr>\n",
       "    <tr>\n",
       "      <th>31</th>\n",
       "      <td>chrY:10179-10196(+)</td>\n",
       "      <td>TGCTATTGCTCACTCTT</td>\n",
       "    </tr>\n",
       "  </tbody>\n",
       "</table>\n",
       "</div>"
      ],
      "text/plain": [
       "                  chr_p                seq\n",
       "0   chrY:10007-10024(-)  GGTTAGGGTTAGGGTTA\n",
       "1   chrY:10008-10025(-)  GGGTTAGGGTTAGGGTT\n",
       "2   chrY:10013-10030(-)  GGTTAGGGTTAGGGTTA\n",
       "3   chrY:10014-10031(-)  GGGTTAGGGTTAGGGTT\n",
       "4   chrY:10019-10036(-)  GGTTAGGGTTAGGGTTA\n",
       "5   chrY:10020-10037(-)  GGGTTAGGGTTAGGGTT\n",
       "13  chrY:10052-10069(-)  ACCCACATCCTGCTGAT\n",
       "18  chrY:10052-10069(+)  ATCAGCAGGATGTGGGT\n",
       "19  chrY:10102-10119(-)  GTTGCCACTGCTGGCTC\n",
       "31  chrY:10179-10196(+)  TGCTATTGCTCACTCTT"
      ]
     },
     "execution_count": 6,
     "metadata": {},
     "output_type": "execute_result"
    }
   ],
   "source": [
    "#Checking for deuplicate sequences\n",
    "match = data.duplicated('seq',keep=False)\n",
    "data[match].head(10)"
   ]
  },
  {
   "cell_type": "code",
   "execution_count": 7,
   "metadata": {
    "collapsed": false,
    "deletable": true,
    "editable": true
   },
   "outputs": [
    {
     "data": {
      "text/plain": [
       "944202"
      ]
     },
     "execution_count": 7,
     "metadata": {},
     "output_type": "execute_result"
    }
   ],
   "source": [
    "data2=data[match]\n",
    "len(data2) #These are total rows. Number of sequences that match."
   ]
  },
  {
   "cell_type": "markdown",
   "metadata": {
    "collapsed": false,
    "deletable": true,
    "editable": true
   },
   "source": [
    "Below is a function that checks the sgRNA for each chromosome. It checks for duplicates. It then generates 2 files. One is for the duplicate sequences and other is for the unique sequences."
   ]
  },
  {
   "cell_type": "code",
   "execution_count": 2,
   "metadata": {
    "collapsed": true,
    "deletable": true,
    "editable": true
   },
   "outputs": [],
   "source": [
    "def dup_and_uniq(chr_num):\n",
    "    file_path = \"/home/user/Desktop/nt_17/PAMs/\"\n",
    "    filename = file_path+\"PAM1_\"+str(chr_num)\n",
    "    print(filename)\n",
    "    data = pd.read_table(filename,header=None,names=['chr_p','seq'])\n",
    "    data['seq']=data.seq.str.upper()\n",
    "    match = data.duplicated('seq',keep=False)\n",
    "    \n",
    "    out_dup = file_path+chr_num.split('.')[0]+'_dup.fa'\n",
    "    out_uni = file_path+chr_num.split('.')[0]+'_uni.fa'\n",
    "    \n",
    "    dup = data[match]\n",
    "    uni = data[~match]\n",
    "    print (\"#Duplicates, #Uniques\")\n",
    "    print (len(dup),len(uni))\n",
    "    \n",
    "    dup.to_csv(out_dup,header=None,index=None,sep='\\t')\n",
    "    uni.to_csv(out_uni,header=None,index=None,sep='\\t')\n",
    "    del data\n",
    "    del uni\n",
    "    del dup"
   ]
  },
  {
   "cell_type": "code",
   "execution_count": 3,
   "metadata": {
    "collapsed": false,
    "deletable": true,
    "editable": true
   },
   "outputs": [
    {
     "name": "stdout",
     "output_type": "stream",
     "text": [
      "==========================================================\n",
      "chrY.fa\n",
      "/home/jigar/Desktop/nt_17/PAMs/PAM1_chrY.fa\n",
      "#Duplicates, #Uniques\n",
      "944202 999650\n",
      "==========================================================\n",
      "chrX.fa\n",
      "/home/jigar/Desktop/nt_17/PAMs/PAM1_chrX.fa\n",
      "#Duplicates, #Uniques\n",
      "3312811 7775232\n",
      "==========================================================\n",
      "chr22.fa\n",
      "/home/jigar/Desktop/nt_17/PAMs/PAM1_chr22.fa\n",
      "#Duplicates, #Uniques\n",
      "945872 3203895\n",
      "==========================================================\n",
      "chr21.fa\n",
      "/home/jigar/Desktop/nt_17/PAMs/PAM1_chr21.fa\n",
      "#Duplicates, #Uniques\n",
      "506168 2288724\n",
      "==========================================================\n",
      "chr20.fa\n",
      "/home/jigar/Desktop/nt_17/PAMs/PAM1_chr20.fa\n",
      "#Duplicates, #Uniques\n",
      "1048196 4822575\n",
      "==========================================================\n",
      "chr19.fa\n",
      "/home/jigar/Desktop/nt_17/PAMs/PAM1_chr19.fa\n",
      "#Duplicates, #Uniques\n",
      "2038978 4627140\n",
      "==========================================================\n",
      "chr18.fa\n",
      "/home/jigar/Desktop/nt_17/PAMs/PAM1_chr18.fa\n",
      "#Duplicates, #Uniques\n",
      "1003615 4535144\n",
      "==========================================================\n",
      "chr17.fa\n",
      "/home/jigar/Desktop/nt_17/PAMs/PAM1_chr17.fa\n",
      "#Duplicates, #Uniques\n",
      "2166427 6031564\n",
      "==========================================================\n",
      "chr16.fa\n",
      "/home/jigar/Desktop/nt_17/PAMs/PAM1_chr16.fa\n",
      "#Duplicates, #Uniques\n",
      "2116986 5838681\n",
      "==========================================================\n",
      "chr15.fa\n",
      "/home/jigar/Desktop/nt_17/PAMs/PAM1_chr15.fa\n",
      "#Duplicates, #Uniques\n",
      "1842016 5336697\n",
      "==========================================================\n",
      "chr14.fa\n",
      "/home/jigar/Desktop/nt_17/PAMs/PAM1_chr14.fa\n",
      "#Duplicates, #Uniques\n",
      "1575479 5531338\n",
      "==========================================================\n",
      "chr13.fa\n",
      "/home/jigar/Desktop/nt_17/PAMs/PAM1_chr13.fa\n",
      "#Duplicates, #Uniques\n",
      "1332587 5117316\n",
      "==========================================================\n",
      "chr12.fa\n",
      "/home/jigar/Desktop/nt_17/PAMs/PAM1_chr12.fa\n",
      "#Duplicates, #Uniques\n",
      "2505981 7947985\n",
      "==========================================================\n",
      "chr11.fa\n",
      "/home/jigar/Desktop/nt_17/PAMs/PAM1_chr11.fa\n",
      "#Duplicates, #Uniques\n",
      "2330674 8756327\n",
      "==========================================================\n",
      "chr10.fa\n",
      "/home/jigar/Desktop/nt_17/PAMs/PAM1_chr10.fa\n",
      "#Duplicates, #Uniques\n",
      "2585059 8492732\n",
      "==========================================================\n",
      "chr9.fa\n",
      "/home/jigar/Desktop/nt_17/PAMs/PAM1_chr9.fa\n",
      "#Duplicates, #Uniques\n",
      "2725848 7200634\n",
      "==========================================================\n",
      "chr8.fa\n",
      "/home/jigar/Desktop/nt_17/PAMs/PAM1_chr8.fa\n",
      "#Duplicates, #Uniques\n",
      "2443271 8464851\n",
      "==========================================================\n",
      "chr7.fa\n",
      "/home/jigar/Desktop/nt_17/PAMs/PAM1_chr7.fa\n",
      "#Duplicates, #Uniques\n",
      "3390994 8919764\n",
      "==========================================================\n",
      "chr6.fa\n",
      "/home/jigar/Desktop/nt_17/PAMs/PAM1_chr6.fa\n",
      "#Duplicates, #Uniques\n",
      "2847483 9466510\n",
      "==========================================================\n",
      "chr5.fa\n",
      "/home/jigar/Desktop/nt_17/PAMs/PAM1_chr5.fa\n",
      "#Duplicates, #Uniques\n",
      "3048478 9945500\n",
      "==========================================================\n",
      "chr4.fa\n",
      "/home/jigar/Desktop/nt_17/PAMs/PAM1_chr4.fa\n",
      "#Duplicates, #Uniques\n",
      "3067137 9338074\n",
      "==========================================================\n",
      "chr3.fa\n",
      "/home/jigar/Desktop/nt_17/PAMs/PAM1_chr3.fa\n",
      "#Duplicates, #Uniques\n",
      "3263205 11226564\n",
      "==========================================================\n",
      "chr2.fa\n",
      "/home/jigar/Desktop/nt_17/PAMs/PAM1_chr2.fa\n",
      "#Duplicates, #Uniques\n",
      "4335129 14031846\n",
      "==========================================================\n",
      "chr1.fa\n",
      "/home/jigar/Desktop/nt_17/PAMs/PAM1_chr1.fa\n",
      "#Duplicates, #Uniques\n",
      "4883763 14391601\n"
     ]
    }
   ],
   "source": [
    "chr_num = ['chrY.fa','chrX.fa','chr22.fa','chr21.fa','chr20.fa',\n",
    "           'chr19.fa','chr18.fa','chr17.fa','chr16.fa','chr15.fa',\n",
    "           'chr14.fa','chr13.fa','chr12.fa','chr11.fa','chr10.fa',\n",
    "           'chr9.fa','chr8.fa','chr7.fa','chr6.fa','chr5.fa','chr4.fa',\n",
    "           'chr3.fa','chr2.fa','chr1.fa']\n",
    "\n",
    "for chromosome in chr_num:\n",
    "    print ('==========================================================')\n",
    "    print (chromosome)\n",
    "    dup_and_uniq(chromosome)\n",
    "    \n",
    "#Below is the output. They also print the number of duplicates and uniques on each chromosome."
   ]
  },
  {
   "cell_type": "markdown",
   "metadata": {
    "deletable": true,
    "editable": true
   },
   "source": [
    "The function below takes the duplicates and the unique files generated in the previous and does further filtering. In the previous step we had focused on analysis for only one chromosome at a time. In the function below, it expands the search to all chromosome at the same time. This will make sure that we only retain sequences (duplicates)."
   ]
  },
  {
   "cell_type": "code",
   "execution_count": 2,
   "metadata": {
    "collapsed": false,
    "deletable": true,
    "editable": true
   },
   "outputs": [],
   "source": [
    "def remove_uniq_from_dup(dup,uni):\n",
    "    file_path = \"/home/user/Desktop/nt_17/dup_uni/\"\n",
    "    dup_file = file_path+dup+'_dup.fa'\n",
    "    uni_file = file_path+uni+'_uni.fa'\n",
    "\n",
    "    data_dup = pd.read_table(dup_file,header=None,names=['chr_p','seq'])\n",
    "    data_uni = pd.read_table(uni_file,header=None,names=['chr_p','seq'])\n",
    "    \n",
    "    \n",
    "    check =  data_uni.seq.values\n",
    "    \n",
    "    #print (check)\n",
    "    mask = data_dup.seq.isin(check)\n",
    "    \n",
    "    #print (mask)\n",
    "    print ('Sequences in Dup File before filter : {} '.format(len(data_dup)))\n",
    "    print ('Sequences in Uni File before filter : {} '.format(len(data_uni)))\n",
    "    \n",
    "    print ('Sequences in Uni found in Dup : {}'.format(sum(mask)))\n",
    "    new_dup = data_dup.ix[~mask]\n",
    "    print ('Sequences in new Dup after filter : {} '.format(len(new_dup)))\n",
    "    \n",
    "    \n",
    "    out_dup = file_path+uni+'_dup.fa'\n",
    "    new_dup.to_csv(out_dup,header=None,index=None,sep='\\t')\n",
    "    \n",
    "    print (\"Done writing to file {}\\n\\n\".format(out_dup))\n",
    "    \n",
    "    del new_dup\n",
    "    del data_uni\n",
    "    del check\n",
    "    del data_dup\n",
    "    del mask"
   ]
  },
  {
   "cell_type": "code",
   "execution_count": 3,
   "metadata": {
    "collapsed": false,
    "deletable": true,
    "editable": true,
    "scrolled": true
   },
   "outputs": [
    {
     "name": "stdout",
     "output_type": "stream",
     "text": [
      "all7 all8\n",
      "Sequences in Dup File before filter : 39300537 \n",
      "Sequences in Uni File before filter : 21786293 \n",
      "Sequences in Uni found in Dup : 1369320\n",
      "Sequences in new Dup after filter : 37931217 \n",
      "Done writing to file /home/jigar/Desktop/nt_17/dup_uni/all8_dup.fa\n",
      "\n",
      "\n"
     ]
    }
   ],
   "source": [
    "import pandas as pd\n",
    "import numpy as np\n",
    "\n",
    "#dup_list=['all', 'all1','all2','all3']\n",
    "#uni_list=['all1', 'all2','all3','all4']\n",
    "dup_list=['all7']\n",
    "uni_list=['all8']\n",
    "for dd,uu in zip(dup_list,uni_list):\n",
    "    print (dd,uu)\n",
    "    remove_uniq_from_dup(dd,uu)"
   ]
  },
  {
   "cell_type": "code",
   "execution_count": 3,
   "metadata": {
    "collapsed": false,
    "deletable": true,
    "editable": true
   },
   "outputs": [],
   "source": [
    "file_path = \"/home/user/Desktop/nt_17/dup_uni/\"\n",
    "dup_file = file_path+'all8_dup.fa'\n",
    "data_dup1 = pd.read_table(dup_file,header=None,names=['chr_p','seq'])"
   ]
  },
  {
   "cell_type": "code",
   "execution_count": 7,
   "metadata": {
    "collapsed": false,
    "deletable": true,
    "editable": true
   },
   "outputs": [
    {
     "name": "stdout",
     "output_type": "stream",
     "text": [
      "37931217 37931217\n",
      "37931217\n"
     ]
    }
   ],
   "source": [
    "match1 = data_dup1.duplicated('seq',keep=False)\n",
    "print (len(data_dup1),len(match1))\n",
    "#This checks that all remaining are duplicates\n",
    "print (sum(match1))"
   ]
  },
  {
   "cell_type": "code",
   "execution_count": 8,
   "metadata": {
    "collapsed": false,
    "deletable": true,
    "editable": true
   },
   "outputs": [],
   "source": [
    "#Analyzing the dups remaining after removing one which may have been from uni\n",
    "#Saving the data for further analysis.\n",
    "\n",
    "data_dup1 = pd.concat([data_dup1,data_dup1.chr_p.str.split(':',expand=True)],axis=1)\n",
    "data_dup1.columns =['chr_p','Sequence','Chromosome','Position']\n"
   ]
  },
  {
   "cell_type": "code",
   "execution_count": 3,
   "metadata": {
    "collapsed": false,
    "deletable": true,
    "editable": true,
    "scrolled": true
   },
   "outputs": [
    {
     "data": {
      "text/html": [
       "<div>\n",
       "<table border=\"1\" class=\"dataframe\">\n",
       "  <thead>\n",
       "    <tr style=\"text-align: right;\">\n",
       "      <th></th>\n",
       "      <th>chr_p</th>\n",
       "      <th>Sequence</th>\n",
       "      <th>Chromosome</th>\n",
       "      <th>Position</th>\n",
       "    </tr>\n",
       "  </thead>\n",
       "  <tbody>\n",
       "    <tr>\n",
       "      <th>0</th>\n",
       "      <td>chr10:61294-61314(-)</td>\n",
       "      <td>AGCTACTTAGGAGGCTGAGG</td>\n",
       "      <td>chr10</td>\n",
       "      <td>61294-61314(-)</td>\n",
       "    </tr>\n",
       "    <tr>\n",
       "      <th>1</th>\n",
       "      <td>chr10:61297-61317(-)</td>\n",
       "      <td>TCCAGCTACTTAGGAGGCTG</td>\n",
       "      <td>chr10</td>\n",
       "      <td>61297-61317(-)</td>\n",
       "    </tr>\n",
       "    <tr>\n",
       "      <th>2</th>\n",
       "      <td>chr10:61293-61313(+)</td>\n",
       "      <td>ACCTCAGCCTCCTAAGTAGC</td>\n",
       "      <td>chr10</td>\n",
       "      <td>61293-61313(+)</td>\n",
       "    </tr>\n",
       "    <tr>\n",
       "      <th>3</th>\n",
       "      <td>chr10:66163-66183(-)</td>\n",
       "      <td>CTTCCTGATTTAAGCTAGGA</td>\n",
       "      <td>chr10</td>\n",
       "      <td>66163-66183(-)</td>\n",
       "    </tr>\n",
       "    <tr>\n",
       "      <th>4</th>\n",
       "      <td>chr10:66164-66184(-)</td>\n",
       "      <td>TCTTCCTGATTTAAGCTAGG</td>\n",
       "      <td>chr10</td>\n",
       "      <td>66164-66184(-)</td>\n",
       "    </tr>\n",
       "  </tbody>\n",
       "</table>\n",
       "</div>"
      ],
      "text/plain": [
       "                  chr_p              Sequence Chromosome        Position\n",
       "0  chr10:61294-61314(-)  AGCTACTTAGGAGGCTGAGG      chr10  61294-61314(-)\n",
       "1  chr10:61297-61317(-)  TCCAGCTACTTAGGAGGCTG      chr10  61297-61317(-)\n",
       "2  chr10:61293-61313(+)  ACCTCAGCCTCCTAAGTAGC      chr10  61293-61313(+)\n",
       "3  chr10:66163-66183(-)  CTTCCTGATTTAAGCTAGGA      chr10  66163-66183(-)\n",
       "4  chr10:66164-66184(-)  TCTTCCTGATTTAAGCTAGG      chr10  66164-66184(-)"
      ]
     },
     "execution_count": 3,
     "metadata": {},
     "output_type": "execute_result"
    }
   ],
   "source": [
    "data_dup1.head()\n"
   ]
  },
  {
   "cell_type": "code",
   "execution_count": 9,
   "metadata": {
    "collapsed": false,
    "deletable": true,
    "editable": true
   },
   "outputs": [],
   "source": [
    "\n",
    "dup_file_1 = file_path+'all_dup_ex.fa'\n",
    "dup_file_1\n",
    "data_dup1.to_csv(dup_file_1,sep='\\t')"
   ]
  },
  {
   "cell_type": "code",
   "execution_count": 10,
   "metadata": {
    "collapsed": false,
    "deletable": true,
    "editable": true
   },
   "outputs": [],
   "source": [
    "del data_dup1['chr_p']\n",
    "dup_file_2 = file_path+'all_dup_ex_nochrp.fa'\n",
    "data_dup1.to_csv(dup_file_2,header=None,index=None,sep='\\t')"
   ]
  },
  {
   "cell_type": "code",
   "execution_count": 11,
   "metadata": {
    "collapsed": false,
    "deletable": true,
    "editable": true
   },
   "outputs": [
    {
     "data": {
      "text/html": [
       "<div>\n",
       "<table border=\"1\" class=\"dataframe\">\n",
       "  <thead>\n",
       "    <tr style=\"text-align: right;\">\n",
       "      <th></th>\n",
       "      <th>Sequence</th>\n",
       "      <th>Chromosome</th>\n",
       "      <th>Position</th>\n",
       "    </tr>\n",
       "  </thead>\n",
       "  <tbody>\n",
       "    <tr>\n",
       "      <th>0</th>\n",
       "      <td>GCCTCACTCTGTCACCC</td>\n",
       "      <td>chr10</td>\n",
       "      <td>61207-61224(+)</td>\n",
       "    </tr>\n",
       "    <tr>\n",
       "      <th>1</th>\n",
       "      <td>CACTCTGTCACCCAGGT</td>\n",
       "      <td>chr10</td>\n",
       "      <td>61211-61228(+)</td>\n",
       "    </tr>\n",
       "    <tr>\n",
       "      <th>2</th>\n",
       "      <td>TTGAGCCCAGGAGCTTG</td>\n",
       "      <td>chr10</td>\n",
       "      <td>61265-61282(-)</td>\n",
       "    </tr>\n",
       "    <tr>\n",
       "      <th>3</th>\n",
       "      <td>TACTTAGGAGGCTGAGG</td>\n",
       "      <td>chr10</td>\n",
       "      <td>61294-61311(-)</td>\n",
       "    </tr>\n",
       "    <tr>\n",
       "      <th>4</th>\n",
       "      <td>AGCTACTTAGGAGGCTG</td>\n",
       "      <td>chr10</td>\n",
       "      <td>61297-61314(-)</td>\n",
       "    </tr>\n",
       "  </tbody>\n",
       "</table>\n",
       "</div>"
      ],
      "text/plain": [
       "            Sequence Chromosome        Position\n",
       "0  GCCTCACTCTGTCACCC      chr10  61207-61224(+)\n",
       "1  CACTCTGTCACCCAGGT      chr10  61211-61228(+)\n",
       "2  TTGAGCCCAGGAGCTTG      chr10  61265-61282(-)\n",
       "3  TACTTAGGAGGCTGAGG      chr10  61294-61311(-)\n",
       "4  AGCTACTTAGGAGGCTG      chr10  61297-61314(-)"
      ]
     },
     "execution_count": 11,
     "metadata": {},
     "output_type": "execute_result"
    }
   ],
   "source": [
    "data_dup1.head()"
   ]
  },
  {
   "cell_type": "code",
   "execution_count": null,
   "metadata": {
    "collapsed": true,
    "deletable": true,
    "editable": true
   },
   "outputs": [],
   "source": []
  }
 ],
 "metadata": {
  "anaconda-cloud": {},
  "kernelspec": {
   "display_name": "Python 3",
   "language": "python",
   "name": "python3"
  },
  "language_info": {
   "codemirror_mode": {
    "name": "ipython",
    "version": 3
   },
   "file_extension": ".py",
   "mimetype": "text/x-python",
   "name": "python",
   "nbconvert_exporter": "python",
   "pygments_lexer": "ipython3",
   "version": "3.5.1"
  }
 },
 "nbformat": 4,
 "nbformat_minor": 1
}
