{
 "cells": [
  {
   "cell_type": "markdown",
   "metadata": {
    "deletable": true,
    "editable": true
   },
   "source": [
    "# Tandem Repeat analysis\n",
    "#### Written by Jigar N. Bandaria\n",
    "In this notebook we continue the analysis on the file generated from the notebook 'sgRNA analysis 3'."
   ]
  },
  {
   "cell_type": "code",
   "execution_count": 3,
   "metadata": {
    "collapsed": false,
    "deletable": true,
    "editable": true
   },
   "outputs": [
    {
     "name": "stdout",
     "output_type": "stream",
     "text": [
      "Analysis.odt  dup_uni\t\t\t      SgRNA analysis.ipynb\r\n",
      "Bam_files     PAMs\t\t\t      sgRNA anslysis 2.1-Copy1.ipynb\r\n",
      "chrom_only    sgRNA analysis 3.1-Copy1.ipynb\r\n"
     ]
    }
   ],
   "source": [
    "%matplotlib inline\n",
    "import pandas as pd\n",
    "import numpy as np\n",
    "import os\n",
    "!ls"
   ]
  },
  {
   "cell_type": "code",
   "execution_count": 4,
   "metadata": {
    "collapsed": false,
    "deletable": true,
    "editable": true
   },
   "outputs": [
    {
     "name": "stdout",
     "output_type": "stream",
     "text": [
      "6380937\n"
     ]
    },
    {
     "data": {
      "text/html": [
       "<div>\n",
       "<table border=\"1\" class=\"dataframe\">\n",
       "  <thead>\n",
       "    <tr style=\"text-align: right;\">\n",
       "      <th></th>\n",
       "      <th>Sequence</th>\n",
       "      <th>Chromosome</th>\n",
       "      <th>Position</th>\n",
       "    </tr>\n",
       "  </thead>\n",
       "  <tbody>\n",
       "    <tr>\n",
       "      <th>0</th>\n",
       "      <td>TTCAGCTTCCAGCTCCC</td>\n",
       "      <td>chr10</td>\n",
       "      <td>123165-123182(+)</td>\n",
       "    </tr>\n",
       "    <tr>\n",
       "      <th>1</th>\n",
       "      <td>TTCAGCTTCCAGCTCCC</td>\n",
       "      <td>chr10</td>\n",
       "      <td>123185-123202(+)</td>\n",
       "    </tr>\n",
       "    <tr>\n",
       "      <th>2</th>\n",
       "      <td>CTCAGGGTGGAGGCTCA</td>\n",
       "      <td>chr10</td>\n",
       "      <td>125637-125654(-)</td>\n",
       "    </tr>\n",
       "    <tr>\n",
       "      <th>3</th>\n",
       "      <td>GCTCAGGGTGGAGGCTC</td>\n",
       "      <td>chr10</td>\n",
       "      <td>125638-125655(-)</td>\n",
       "    </tr>\n",
       "    <tr>\n",
       "      <th>4</th>\n",
       "      <td>CTGGGCTGAGCTCAGGG</td>\n",
       "      <td>chr10</td>\n",
       "      <td>125647-125664(-)</td>\n",
       "    </tr>\n",
       "  </tbody>\n",
       "</table>\n",
       "</div>"
      ],
      "text/plain": [
       "            Sequence Chromosome          Position\n",
       "0  TTCAGCTTCCAGCTCCC      chr10  123165-123182(+)\n",
       "1  TTCAGCTTCCAGCTCCC      chr10  123185-123202(+)\n",
       "2  CTCAGGGTGGAGGCTCA      chr10  125637-125654(-)\n",
       "3  GCTCAGGGTGGAGGCTC      chr10  125638-125655(-)\n",
       "4  CTGGGCTGAGCTCAGGG      chr10  125647-125664(-)"
      ]
     },
     "execution_count": 4,
     "metadata": {},
     "output_type": "execute_result"
    }
   ],
   "source": [
    "#Loading the contents of the file.\n",
    "dups = pd.read_csv('/home/user/Desktop/nt_17/dup_uni/dup_with_one_chrom.fa',header=None,sep='\\t',names=['Sequence','Chromosome','Position'])\n",
    "print (len(dups))\n",
    "dups.head()\n"
   ]
  },
  {
   "cell_type": "code",
   "execution_count": 5,
   "metadata": {
    "collapsed": false,
    "deletable": true,
    "editable": true
   },
   "outputs": [],
   "source": [
    "#I first split the file and create one for each chromosome. This simplifies analysis later.\n",
    "file_path = \"/home/user/Desktop/nt_17/chrom_only/\"\n",
    "\n",
    "chr_num = ['chr1','chr2','chr3','chr3','chr4','chr5','chr6','chr7','chr8','chr9','chr10',\n",
    "           'chr11','chr12','chr13','chr14','chr15','chr16','chr17','chr18','chr19','chr20',\n",
    "           'chr21','chr22','chrX','chrY']\n",
    "for x in chr_num:\n",
    "    dup_chr = dups[dups.Chromosome==x]\n",
    "    filename = file_path+x+\"_only.fa\"\n",
    "    dup_chr.to_csv(filename,header=None,index=None,sep='\\t')"
   ]
  },
  {
   "cell_type": "markdown",
   "metadata": {
    "deletable": true,
    "editable": true
   },
   "source": [
    "Let's load one of the files and do some preliminary analysis."
   ]
  },
  {
   "cell_type": "code",
   "execution_count": 8,
   "metadata": {
    "collapsed": false,
    "deletable": true,
    "editable": true
   },
   "outputs": [],
   "source": [
    "tmp1 = pd.read_csv('chrom_only/chr22_only.fa',header=None,sep='\\t',names=['Sequence','Chromosome','Position'])\n",
    "tmp2 = tmp1.groupby(['Sequence']).count()"
   ]
  },
  {
   "cell_type": "code",
   "execution_count": 9,
   "metadata": {
    "collapsed": false,
    "deletable": true,
    "editable": true
   },
   "outputs": [
    {
     "name": "stdout",
     "output_type": "stream",
     "text": [
      "183043\n",
      "66408\n"
     ]
    }
   ],
   "source": [
    "print(len(tmp1)) # Total sequences in the file ..Chr22\n",
    "print(len(tmp2)) # Total hotspots that the sequences can be grouped into."
   ]
  },
  {
   "cell_type": "code",
   "execution_count": 10,
   "metadata": {
    "collapsed": false,
    "deletable": true,
    "editable": true
   },
   "outputs": [
    {
     "name": "stdout",
     "output_type": "stream",
     "text": [
      "66408\n",
      "58341\n"
     ]
    }
   ],
   "source": [
    "#Here we removes sequences that repeat less than 4 times.\n",
    "tmp3 = tmp1.Sequence.value_counts()\n",
    "#print (tmp3)\n",
    "print(len(tmp3))\n",
    "tmp4 = tmp3.index[tmp3<4].tolist()\n",
    "print(len(tmp4))\n",
    "#print(tmp4)"
   ]
  },
  {
   "cell_type": "code",
   "execution_count": 11,
   "metadata": {
    "collapsed": false,
    "deletable": true,
    "editable": true
   },
   "outputs": [],
   "source": [
    "tmp5 = tmp1.mask(tmp1.Sequence.isin(tmp4)) # 'mask' here is a pandas function\n",
    "tmp5.dropna(how='any',inplace=True)"
   ]
  },
  {
   "cell_type": "code",
   "execution_count": 12,
   "metadata": {
    "collapsed": false,
    "deletable": true,
    "editable": true
   },
   "outputs": [
    {
     "data": {
      "text/plain": [
       "49912"
      ]
     },
     "execution_count": 12,
     "metadata": {},
     "output_type": "execute_result"
    }
   ],
   "source": [
    "len(tmp5) # Number of sequences that remain after removing the ones that occur less than 4 times."
   ]
  },
  {
   "cell_type": "markdown",
   "metadata": {
    "deletable": true,
    "editable": true
   },
   "source": [
    "Based on above analysis, we repeat it on all the chromosome and create file for each chromosome that contain only sequences that occur more than 4 times."
   ]
  },
  {
   "cell_type": "code",
   "execution_count": 14,
   "metadata": {
    "collapsed": false,
    "deletable": true,
    "editable": true
   },
   "outputs": [],
   "source": [
    "#file_path = \"/home/user/Desktop/sgRNA/Test/\"\n",
    "\n",
    "#chr_num=['chr22']\n",
    "chr_num = ['chr1','chr2','chr3','chr4','chr5','chr6','chr7','chr8','chr9','chr10',\n",
    "           'chr11','chr12','chr13','chr14','chr15','chr16','chr17','chr18','chr19','chr20',\n",
    "           'chr21','chr22','chrX','chrY']\n",
    "for x in chr_num:\n",
    "    input_file = file_path+x+\"_only.fa\"\n",
    "    output_file = file_path+x+\"_4more.fa\"\n",
    "    tmp1 = pd.read_csv(input_file,header=None,sep='\\t',names=['Sequence','Chromosome','Position'])\n",
    "    \n",
    "    tmp3 = tmp1.Sequence.value_counts()\n",
    "    tmp4 = tmp3.index[tmp3<4].tolist()\n",
    "    tmp5 = tmp1.mask(tmp1.Sequence.isin(tmp4))\n",
    "    tmp5.dropna(how='any',inplace=True)\n",
    "    tmp5.to_csv(output_file,header=None,index=None,sep='\\t')"
   ]
  },
  {
   "cell_type": "markdown",
   "metadata": {
    "deletable": true,
    "editable": true
   },
   "source": [
    "Below is the statistics for each chromosome. It shows how many sequences are present on each chromosome, and how many hotspots they can form."
   ]
  },
  {
   "cell_type": "code",
   "execution_count": 15,
   "metadata": {
    "collapsed": false,
    "deletable": true,
    "editable": true
   },
   "outputs": [
    {
     "name": "stdout",
     "output_type": "stream",
     "text": [
      "Name : Reads : Duplicates\n",
      "chr1 : 168852 : 22919\n",
      "chr2 : 95715 : 14935\n",
      "chr3 : 17838 : 2054\n",
      "chr4 : 41252 : 4405\n",
      "chr5 : 65095 : 9281\n",
      "chr6 : 32262 : 4602\n",
      "chr7 : 108754 : 17362\n",
      "chr8 : 64918 : 7933\n",
      "chr9 : 271391 : 51593\n",
      "chr10 : 118367 : 20675\n",
      "chr11 : 33668 : 5162\n",
      "chr12 : 28501 : 3468\n",
      "chr13 : 27791 : 3377\n",
      "chr14 : 19806 : 3161\n",
      "chr15 : 129763 : 22458\n",
      "chr16 : 103819 : 17726\n",
      "chr17 : 98052 : 16520\n",
      "chr18 : 19003 : 2308\n",
      "chr19 : 95626 : 13207\n",
      "chr20 : 18169 : 2570\n",
      "chr21 : 11412 : 1627\n",
      "chr22 : 49912 : 8067\n",
      "chrX : 82399 : 13193\n",
      "chrY : 154979 : 28816\n"
     ]
    }
   ],
   "source": [
    "print (\"Name : Reads : Duplicates\")\n",
    "for x in chr_num:\n",
    "    filename = file_path+x+\"_4more.fa\"\n",
    "    tmp1 = pd.read_csv(filename,header=None,sep='\\t',names=['Sequence','Chromosome','Position'])\n",
    "    \n",
    "    print(\"{0} : {1} : {2}\".format(x,len(tmp1),len(tmp1.Sequence.value_counts())))\n",
    "\n"
   ]
  },
  {
   "cell_type": "markdown",
   "metadata": {
    "deletable": true,
    "editable": true
   },
   "source": [
    "Below we look at chr 9, and calculate how many sequences are repeated 4 times, 5 times ...etc."
   ]
  },
  {
   "cell_type": "code",
   "execution_count": 16,
   "metadata": {
    "collapsed": false,
    "deletable": true,
    "editable": true
   },
   "outputs": [
    {
     "name": "stdout",
     "output_type": "stream",
     "text": [
      "chr9 : 271391 : 51593\n"
     ]
    },
    {
     "data": {
      "text/plain": [
       "4      20337\n",
       "5      15549\n",
       "6       7965\n",
       "7       4509\n",
       "8       1648\n",
       "9        289\n",
       "10       393\n",
       "11       462\n",
       "12       107\n",
       "13        75\n",
       "14        49\n",
       "15        21\n",
       "16        32\n",
       "17        15\n",
       "18         9\n",
       "19        12\n",
       "20        12\n",
       "21         9\n",
       "22        10\n",
       "23         9\n",
       "24         5\n",
       "25         6\n",
       "26        14\n",
       "27         4\n",
       "28         8\n",
       "29         5\n",
       "30         1\n",
       "31         4\n",
       "32         1\n",
       "33         2\n",
       "34         1\n",
       "35         1\n",
       "36         1\n",
       "37         1\n",
       "38         3\n",
       "39         1\n",
       "40         2\n",
       "41         2\n",
       "42         1\n",
       "43         1\n",
       "44         4\n",
       "45         4\n",
       "46         3\n",
       "61         2\n",
       "80         2\n",
       "82         1\n",
       "112        1\n",
       "Name: Sequence, dtype: int64"
      ]
     },
     "execution_count": 16,
     "metadata": {},
     "output_type": "execute_result"
    }
   ],
   "source": [
    "filename = file_path+\"chr9\"+\"_4more.fa\"\n",
    "tmp1 = pd.read_csv(filename,header=None,sep='\\t',names=['Sequence','Chromosome','Position'])\n",
    "x = \"chr9\"   \n",
    "print(\"{0} : {1} : {2}\".format(x,len(tmp1),len(tmp1.Sequence.value_counts())))\n",
    "\n",
    "tmp1.Sequence.value_counts().value_counts().sort_index()"
   ]
  },
  {
   "cell_type": "markdown",
   "metadata": {
    "deletable": true,
    "editable": true
   },
   "source": [
    "concatenate all the chr*_with_overlap.fa for further analysis"
   ]
  }
 ],
 "metadata": {
  "anaconda-cloud": {},
  "kernelspec": {
   "display_name": "Python 3",
   "language": "python",
   "name": "python3"
  },
  "language_info": {
   "codemirror_mode": {
    "name": "ipython",
    "version": 3
   },
   "file_extension": ".py",
   "mimetype": "text/x-python",
   "name": "python",
   "nbconvert_exporter": "python",
   "pygments_lexer": "ipython3",
   "version": "3.5.1"
  }
 },
 "nbformat": 4,
 "nbformat_minor": 1
}
