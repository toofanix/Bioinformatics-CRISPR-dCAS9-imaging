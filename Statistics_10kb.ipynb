{
 "cells": [
  {
   "cell_type": "markdown",
   "metadata": {
    "deletable": true,
    "editable": true
   },
   "source": [
    "# Tandem Repeat analysis\n",
    "#### Written by Jigar N. Bandaria\n",
    "\n",
    "In this notebook I perform statistical analysis for the sequences that pass the criteria that we mention in out paper and make plots."
   ]
  },
  {
   "cell_type": "code",
   "execution_count": 12,
   "metadata": {
    "collapsed": true,
    "deletable": true,
    "editable": true
   },
   "outputs": [],
   "source": [
    "%matplotlib inline\n",
    "\n",
    "import pandas as pd\n",
    "import numpy as np\n",
    "import matplotlib.pyplot as plt"
   ]
  },
  {
   "cell_type": "code",
   "execution_count": 13,
   "metadata": {
    "collapsed": false,
    "deletable": true,
    "editable": true
   },
   "outputs": [],
   "source": [
    "#Load the final sequences\n",
    "data = pd.read_csv('10kb/true_all_cols.csv')"
   ]
  },
  {
   "cell_type": "code",
   "execution_count": 14,
   "metadata": {
    "collapsed": false,
    "deletable": true,
    "editable": true
   },
   "outputs": [
    {
     "data": {
      "text/html": [
       "<div>\n",
       "<table border=\"1\" class=\"dataframe\">\n",
       "  <thead>\n",
       "    <tr style=\"text-align: right;\">\n",
       "      <th></th>\n",
       "      <th>seq_id</th>\n",
       "      <th>strand</th>\n",
       "      <th>chr</th>\n",
       "      <th>start</th>\n",
       "      <th>seq</th>\n",
       "      <th>chr_p</th>\n",
       "      <th>seq26</th>\n",
       "      <th>NGG5</th>\n",
       "      <th>NGG3</th>\n",
       "      <th>seq23</th>\n",
       "    </tr>\n",
       "  </thead>\n",
       "  <tbody>\n",
       "    <tr>\n",
       "      <th>0</th>\n",
       "      <td>seq0</td>\n",
       "      <td>16</td>\n",
       "      <td>chr3</td>\n",
       "      <td>197891582</td>\n",
       "      <td>CTCTAGGCTTCCCTGTTTTT</td>\n",
       "      <td>chr3:197891578-197891604(-)</td>\n",
       "      <td>ATAAAAAACAGGGAAGCCTAGAGTGG</td>\n",
       "      <td>ATA</td>\n",
       "      <td>TGG</td>\n",
       "      <td>AAAAACAGGGAAGCCTAGAGTGG</td>\n",
       "    </tr>\n",
       "    <tr>\n",
       "      <th>1</th>\n",
       "      <td>seq0</td>\n",
       "      <td>16</td>\n",
       "      <td>chr3</td>\n",
       "      <td>197891478</td>\n",
       "      <td>CTCTAGGCTTCCCTGTTTTT</td>\n",
       "      <td>chr3:197891474-197891500(-)</td>\n",
       "      <td>ATAAAAAACAGGGAAGCCTAGAGTGG</td>\n",
       "      <td>ATA</td>\n",
       "      <td>TGG</td>\n",
       "      <td>AAAAACAGGGAAGCCTAGAGTGG</td>\n",
       "    </tr>\n",
       "    <tr>\n",
       "      <th>2</th>\n",
       "      <td>seq0</td>\n",
       "      <td>16</td>\n",
       "      <td>chr3</td>\n",
       "      <td>197891374</td>\n",
       "      <td>CTCTAGGCTTCCCTGTTTTT</td>\n",
       "      <td>chr3:197891370-197891396(-)</td>\n",
       "      <td>ATAAAAAACAGGGAAGCCTAGAGTGG</td>\n",
       "      <td>ATA</td>\n",
       "      <td>TGG</td>\n",
       "      <td>AAAAACAGGGAAGCCTAGAGTGG</td>\n",
       "    </tr>\n",
       "    <tr>\n",
       "      <th>3</th>\n",
       "      <td>seq0</td>\n",
       "      <td>16</td>\n",
       "      <td>chr3</td>\n",
       "      <td>197891270</td>\n",
       "      <td>CTCTAGGCTTCCCTGTTTTT</td>\n",
       "      <td>chr3:197891266-197891292(-)</td>\n",
       "      <td>ATAAAAAACAGGGAAGCCTAGAGTGG</td>\n",
       "      <td>ATA</td>\n",
       "      <td>TGG</td>\n",
       "      <td>AAAAACAGGGAAGCCTAGAGTGG</td>\n",
       "    </tr>\n",
       "    <tr>\n",
       "      <th>4</th>\n",
       "      <td>seq1</td>\n",
       "      <td>0</td>\n",
       "      <td>chr12</td>\n",
       "      <td>34493379</td>\n",
       "      <td>AAAAACTGGCGAGGCAGAGC</td>\n",
       "      <td>chr12:34493375-34493401(+)</td>\n",
       "      <td>GAAAAAAACTGGCGAGGCAGAGCAGG</td>\n",
       "      <td>GAA</td>\n",
       "      <td>AGG</td>\n",
       "      <td>AAAAACTGGCGAGGCAGAGCAGG</td>\n",
       "    </tr>\n",
       "  </tbody>\n",
       "</table>\n",
       "</div>"
      ],
      "text/plain": [
       "  seq_id  strand    chr      start                   seq  \\\n",
       "0   seq0      16   chr3  197891582  CTCTAGGCTTCCCTGTTTTT   \n",
       "1   seq0      16   chr3  197891478  CTCTAGGCTTCCCTGTTTTT   \n",
       "2   seq0      16   chr3  197891374  CTCTAGGCTTCCCTGTTTTT   \n",
       "3   seq0      16   chr3  197891270  CTCTAGGCTTCCCTGTTTTT   \n",
       "4   seq1       0  chr12   34493379  AAAAACTGGCGAGGCAGAGC   \n",
       "\n",
       "                         chr_p                       seq26 NGG5 NGG3  \\\n",
       "0  chr3:197891578-197891604(-)  ATAAAAAACAGGGAAGCCTAGAGTGG  ATA  TGG   \n",
       "1  chr3:197891474-197891500(-)  ATAAAAAACAGGGAAGCCTAGAGTGG  ATA  TGG   \n",
       "2  chr3:197891370-197891396(-)  ATAAAAAACAGGGAAGCCTAGAGTGG  ATA  TGG   \n",
       "3  chr3:197891266-197891292(-)  ATAAAAAACAGGGAAGCCTAGAGTGG  ATA  TGG   \n",
       "4   chr12:34493375-34493401(+)  GAAAAAAACTGGCGAGGCAGAGCAGG  GAA  AGG   \n",
       "\n",
       "                     seq23  \n",
       "0  AAAAACAGGGAAGCCTAGAGTGG  \n",
       "1  AAAAACAGGGAAGCCTAGAGTGG  \n",
       "2  AAAAACAGGGAAGCCTAGAGTGG  \n",
       "3  AAAAACAGGGAAGCCTAGAGTGG  \n",
       "4  AAAAACTGGCGAGGCAGAGCAGG  "
      ]
     },
     "execution_count": 14,
     "metadata": {},
     "output_type": "execute_result"
    }
   ],
   "source": [
    "#Viewing some of the sequences in the file\n",
    "data.head()"
   ]
  },
  {
   "cell_type": "code",
   "execution_count": 15,
   "metadata": {
    "collapsed": false,
    "deletable": true,
    "editable": true
   },
   "outputs": [
    {
     "name": "stdout",
     "output_type": "stream",
     "text": [
      "Total sequences : 479388\n",
      "Total hotspots : 62334\n"
     ]
    }
   ],
   "source": [
    "print('Total sequences : {}'.format(len(data)))\n",
    "print('Total hotspots : {}'.format(len(data.groupby('seq_id'))))"
   ]
  },
  {
   "cell_type": "markdown",
   "metadata": {
    "deletable": true,
    "editable": true
   },
   "source": [
    "Below is the count of all the sequences and how many times they are repeated. There are no sequences that are repeated less than 4 times."
   ]
  },
  {
   "cell_type": "code",
   "execution_count": 16,
   "metadata": {
    "collapsed": false,
    "deletable": true,
    "editable": true
   },
   "outputs": [
    {
     "data": {
      "text/plain": [
       "seq48479    145\n",
       "seq60354    135\n",
       "seq11536    125\n",
       "seq9786     123\n",
       "seq9330     120\n",
       "seq15191    116\n",
       "seq46931    111\n",
       "seq59518    111\n",
       "seq1551     107\n",
       "seq22645    103\n",
       "seq29359    100\n",
       "seq19760     99\n",
       "seq22496     99\n",
       "seq49502     99\n",
       "seq18998     99\n",
       "seq14036     95\n",
       "seq43656     95\n",
       "seq23761     94\n",
       "seq38002     93\n",
       "seq377       93\n",
       "seq50355     93\n",
       "seq44906     93\n",
       "seq8804      92\n",
       "seq33326     92\n",
       "seq39534     91\n",
       "seq43074     90\n",
       "seq2372      89\n",
       "seq49005     88\n",
       "seq30000     88\n",
       "seq59093     88\n",
       "           ... \n",
       "seq51164      4\n",
       "seq19078      4\n",
       "seq12152      4\n",
       "seq53196      4\n",
       "seq62089      4\n",
       "seq48538      4\n",
       "seq41004      4\n",
       "seq2432       4\n",
       "seq27997      4\n",
       "seq2408       4\n",
       "seq18654      4\n",
       "seq6187       4\n",
       "seq37662      4\n",
       "seq55524      4\n",
       "seq30742      4\n",
       "seq57603      4\n",
       "seq17336      4\n",
       "seq54116      4\n",
       "seq31519      4\n",
       "seq50310      4\n",
       "seq20831      4\n",
       "seq12910      4\n",
       "seq37658      4\n",
       "seq4912       4\n",
       "seq22762      4\n",
       "seq44583      4\n",
       "seq19220      4\n",
       "seq42421      4\n",
       "seq12399      4\n",
       "seq10536      4\n",
       "Name: seq_id, dtype: int64"
      ]
     },
     "execution_count": 16,
     "metadata": {},
     "output_type": "execute_result"
    }
   ],
   "source": [
    "grp1 = data.seq_id.value_counts()\n",
    "grp1"
   ]
  },
  {
   "cell_type": "code",
   "execution_count": 31,
   "metadata": {
    "collapsed": true,
    "deletable": true,
    "editable": true
   },
   "outputs": [],
   "source": [
    "grp1.to_csv('stats1.csv')"
   ]
  },
  {
   "cell_type": "code",
   "execution_count": 17,
   "metadata": {
    "collapsed": false,
    "deletable": true,
    "editable": true
   },
   "outputs": [
    {
     "name": "stdout",
     "output_type": "stream",
     "text": [
      "seq48479    145\n",
      "seq60354    135\n",
      "seq11536    125\n",
      "seq9786     123\n",
      "seq9330     120\n",
      "Name: seq_id, dtype: int64\n"
     ]
    },
    {
     "data": {
      "text/plain": [
       "<matplotlib.axes._subplots.AxesSubplot at 0x7fb4d16329b0>"
      ]
     },
     "execution_count": 17,
     "metadata": {},
     "output_type": "execute_result"
    },
    {
     "data": {
      "image/png": "[encoded data removed]",
      "text/plain": [
       "<matplotlib.figure.Figure at 0x7fb4d15faa58>"
      ]
     },
     "metadata": {},
     "output_type": "display_data"
    }
   ],
   "source": [
    "print (grp1.head())\n",
    "grp1.plot(logy=True)\n"
   ]
  },
  {
   "cell_type": "code",
   "execution_count": 18,
   "metadata": {
    "collapsed": false,
    "deletable": true,
    "editable": true
   },
   "outputs": [],
   "source": [
    "grp2= grp1.value_counts() #This is same as doing a histogram."
   ]
  },
  {
   "cell_type": "code",
   "execution_count": 19,
   "metadata": {
    "collapsed": false,
    "deletable": true,
    "editable": true
   },
   "outputs": [
    {
     "name": "stdout",
     "output_type": "stream",
     "text": [
      "4    20076\n",
      "5    11290\n",
      "6     7265\n",
      "7     4893\n",
      "8     3545\n",
      "Name: seq_id, dtype: int64\n",
      "120    1\n",
      "123    1\n",
      "125    1\n",
      "135    1\n",
      "145    1\n",
      "Name: seq_id, dtype: int64\n"
     ]
    }
   ],
   "source": [
    "print (grp2.head())\n",
    "print (grp2.sort_index().tail())"
   ]
  },
  {
   "cell_type": "code",
   "execution_count": 32,
   "metadata": {
    "collapsed": true,
    "deletable": true,
    "editable": true
   },
   "outputs": [],
   "source": [
    "grp2.to_csv('stats_2.csv')"
   ]
  },
  {
   "cell_type": "code",
   "execution_count": 20,
   "metadata": {
    "collapsed": false,
    "deletable": true,
    "editable": true
   },
   "outputs": [
    {
     "data": {
      "text/plain": [
       "<matplotlib.axes._subplots.AxesSubplot at 0x7fb4dd80ac18>"
      ]
     },
     "execution_count": 20,
     "metadata": {},
     "output_type": "execute_result"
    },
    {
     "data": {
      "image/png": "[encoded data removed]",
      "text/plain": [
       "<matplotlib.figure.Figure at 0x7fb4d1634588>"
      ]
     },
     "metadata": {},
     "output_type": "display_data"
    }
   ],
   "source": [
    "grp2.sort_index().plot(logy=True)"
   ]
  },
  {
   "cell_type": "code",
   "execution_count": 21,
   "metadata": {
    "collapsed": false,
    "deletable": true,
    "editable": true
   },
   "outputs": [
    {
     "data": {
      "text/plain": [
       "[<matplotlib.lines.Line2D at 0x7fb4dcf47ac8>]"
      ]
     },
     "execution_count": 21,
     "metadata": {},
     "output_type": "execute_result"
    },
    {
     "data": {
      "image/png": "[encoded data removed]",
      "text/plain": [
       "<matplotlib.figure.Figure at 0x7fb4dd4269e8>"
      ]
     },
     "metadata": {},
     "output_type": "display_data"
    }
   ],
   "source": [
    "plt.semilogy(grp1.values,range(len(grp1.values)))"
   ]
  },
  {
   "cell_type": "code",
   "execution_count": 29,
   "metadata": {
    "collapsed": false,
    "deletable": true,
    "editable": true
   },
   "outputs": [
    {
     "data": {
      "text/plain": [
       "[<matplotlib.lines.Line2D at 0x7fb4d4309208>]"
      ]
     },
     "execution_count": 29,
     "metadata": {},
     "output_type": "execute_result"
    },
    {
     "data": {
      "image/png": "[encoded data removed]",
      "text/plain": [
       "<matplotlib.figure.Figure at 0x7fb4d4305128>"
      ]
     },
     "metadata": {},
     "output_type": "display_data"
    }
   ],
   "source": [
    "plt.plot(grp1.values,range(len(grp1.values)))"
   ]
  },
  {
   "cell_type": "code",
   "execution_count": null,
   "metadata": {
    "collapsed": true,
    "deletable": true,
    "editable": true
   },
   "outputs": [],
   "source": []
  }
 ],
 "metadata": {
  "anaconda-cloud": {},
  "kernelspec": {
   "display_name": "Python 3",
   "language": "python",
   "name": "python3"
  },
  "language_info": {
   "codemirror_mode": {
    "name": "ipython",
    "version": 3
   },
   "file_extension": ".py",
   "mimetype": "text/x-python",
   "name": "python",
   "nbconvert_exporter": "python",
   "pygments_lexer": "ipython3",
   "version": "3.5.1"
  }
 },
 "nbformat": 4,
 "nbformat_minor": 1
}
