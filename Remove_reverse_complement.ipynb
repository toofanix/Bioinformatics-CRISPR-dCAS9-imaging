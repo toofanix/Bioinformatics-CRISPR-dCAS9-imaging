{
 "cells": [
  {
   "cell_type": "markdown",
   "metadata": {
    "deletable": true,
    "editable": true
   },
   "source": [
    "# Tandem Repeat analysis\n",
    "#### Written by Jigar N. Bandaria\n",
    "\n",
    "#### This is the data that I obtain after all the filters. This data was obtainted by concatenating the chr*_with_overlap.fa file into all_overlap.fa\n",
    "\n",
    "Here the sequences that we have generated are analyzed to remove sequences that were counted twice. This occurs because in all the previous steps we had not worried about reverse complements. So here we will remove those sequences that are reverse complement."
   ]
  },
  {
   "cell_type": "code",
   "execution_count": 35,
   "metadata": {
    "collapsed": true,
    "deletable": true,
    "editable": true
   },
   "outputs": [],
   "source": [
    "import pandas as pd\n",
    "import numpy as np"
   ]
  },
  {
   "cell_type": "code",
   "execution_count": 15,
   "metadata": {
    "collapsed": false,
    "deletable": true,
    "editable": true
   },
   "outputs": [
    {
     "data": {
      "text/html": [
       "<div>\n",
       "<table border=\"1\" class=\"dataframe\">\n",
       "  <thead>\n",
       "    <tr style=\"text-align: right;\">\n",
       "      <th></th>\n",
       "      <th>Sequence</th>\n",
       "    </tr>\n",
       "  </thead>\n",
       "  <tbody>\n",
       "    <tr>\n",
       "      <th>0</th>\n",
       "      <td>TGGACAGGCTCTCTAGA</td>\n",
       "    </tr>\n",
       "    <tr>\n",
       "      <th>1</th>\n",
       "      <td>ACAGGCTCTCTAGAAGG</td>\n",
       "    </tr>\n",
       "    <tr>\n",
       "      <th>2</th>\n",
       "      <td>CTCTCTAGAAGGTAGAC</td>\n",
       "    </tr>\n",
       "    <tr>\n",
       "      <th>3</th>\n",
       "      <td>TAGACAGGCTCTCTAGA</td>\n",
       "    </tr>\n",
       "    <tr>\n",
       "      <th>4</th>\n",
       "      <td>CTCTCTAGAAGGTAGAC</td>\n",
       "    </tr>\n",
       "  </tbody>\n",
       "</table>\n",
       "</div>"
      ],
      "text/plain": [
       "            Sequence\n",
       "0  TGGACAGGCTCTCTAGA\n",
       "1  ACAGGCTCTCTAGAAGG\n",
       "2  CTCTCTAGAAGGTAGAC\n",
       "3  TAGACAGGCTCTCTAGA\n",
       "4  CTCTCTAGAAGGTAGAC"
      ]
     },
     "execution_count": 15,
     "metadata": {},
     "output_type": "execute_result"
    }
   ],
   "source": [
    "#Reading all the sequences for all the chromosomes\n",
    "data = pd.read_table('chrom_only/all_overlap.fa',header=None,usecols=[0],names=['Sequence'])\n",
    "data.head()"
   ]
  },
  {
   "cell_type": "code",
   "execution_count": 22,
   "metadata": {
    "collapsed": false,
    "deletable": true,
    "editable": true
   },
   "outputs": [
    {
     "data": {
      "text/plain": [
       "73112"
      ]
     },
     "execution_count": 22,
     "metadata": {},
     "output_type": "execute_result"
    }
   ],
   "source": [
    "#These are the total number of hotspots that are present in the file.\n",
    "list1 = data['Sequence'].value_counts().index.tolist()\n",
    "len(list1)"
   ]
  },
  {
   "cell_type": "markdown",
   "metadata": {
    "deletable": true,
    "editable": true
   },
   "source": [
    "Below I first convert all the sequences into reverse complement and then create a dataframe that has 2 columns. One is the sequence and other is it reverse complement."
   ]
  },
  {
   "cell_type": "code",
   "execution_count": 23,
   "metadata": {
    "collapsed": true,
    "deletable": true,
    "editable": true
   },
   "outputs": [],
   "source": [
    "complement = {'A':'T','T':'A','C':'G','G':'C'} #dictionary for conversion\n",
    "\n",
    "def rev_comp(x):#function for reverse complement\n",
    "    tmp_rev = [complement[a] for a in x[::-1]]\n",
    "    return ''.join(tmp_rev)"
   ]
  },
  {
   "cell_type": "code",
   "execution_count": 25,
   "metadata": {
    "collapsed": false,
    "deletable": true,
    "editable": true
   },
   "outputs": [],
   "source": [
    "list2 = [rev_comp(b) for b in list1] #create the reverse complement as a new list"
   ]
  },
  {
   "cell_type": "code",
   "execution_count": 26,
   "metadata": {
    "collapsed": false,
    "deletable": true,
    "editable": true
   },
   "outputs": [
    {
     "data": {
      "text/html": [
       "<div>\n",
       "<table border=\"1\" class=\"dataframe\">\n",
       "  <thead>\n",
       "    <tr style=\"text-align: right;\">\n",
       "      <th></th>\n",
       "      <th>fwd</th>\n",
       "      <th>rev</th>\n",
       "    </tr>\n",
       "  </thead>\n",
       "  <tbody>\n",
       "    <tr>\n",
       "      <th>0</th>\n",
       "      <td>GGACCATTCCTTCAGGA</td>\n",
       "      <td>TCCTGAAGGAATGGTCC</td>\n",
       "    </tr>\n",
       "    <tr>\n",
       "      <th>1</th>\n",
       "      <td>CACTCAATACACGACTC</td>\n",
       "      <td>GAGTCGTGTATTGAGTG</td>\n",
       "    </tr>\n",
       "    <tr>\n",
       "      <th>2</th>\n",
       "      <td>ATGGGCCCAGGTAAGCA</td>\n",
       "      <td>TGCTTACCTGGGCCCAT</td>\n",
       "    </tr>\n",
       "    <tr>\n",
       "      <th>3</th>\n",
       "      <td>TTCTTCAGGATGGGCCC</td>\n",
       "      <td>GGGCCCATCCTGAAGAA</td>\n",
       "    </tr>\n",
       "    <tr>\n",
       "      <th>4</th>\n",
       "      <td>TCTGTATGATATCACAG</td>\n",
       "      <td>CTGTGATATCATACAGA</td>\n",
       "    </tr>\n",
       "  </tbody>\n",
       "</table>\n",
       "</div>"
      ],
      "text/plain": [
       "                 fwd                rev\n",
       "0  GGACCATTCCTTCAGGA  TCCTGAAGGAATGGTCC\n",
       "1  CACTCAATACACGACTC  GAGTCGTGTATTGAGTG\n",
       "2  ATGGGCCCAGGTAAGCA  TGCTTACCTGGGCCCAT\n",
       "3  TTCTTCAGGATGGGCCC  GGGCCCATCCTGAAGAA\n",
       "4  TCTGTATGATATCACAG  CTGTGATATCATACAGA"
      ]
     },
     "execution_count": 26,
     "metadata": {},
     "output_type": "execute_result"
    }
   ],
   "source": [
    "frm1 = pd.DataFrame({'fwd':list1,'rev':list2}) #convert both list of fwd and rev to pandas Dataframe\n",
    "frm1.head()"
   ]
  },
  {
   "cell_type": "code",
   "execution_count": null,
   "metadata": {
    "collapsed": false,
    "deletable": true,
    "editable": true
   },
   "outputs": [],
   "source": [
    "mask1 = frm1.fwd.isin(list2) # compare for the reverse complements. The number should be 2n"
   ]
  },
  {
   "cell_type": "code",
   "execution_count": 29,
   "metadata": {
    "collapsed": false,
    "deletable": true,
    "editable": true
   },
   "outputs": [
    {
     "data": {
      "text/plain": [
       "4634"
      ]
     },
     "execution_count": 29,
     "metadata": {},
     "output_type": "execute_result"
    }
   ],
   "source": [
    "sum(mask1) # total sequences that are reverse complement of each other. Reduce this by half."
   ]
  },
  {
   "cell_type": "code",
   "execution_count": 30,
   "metadata": {
    "collapsed": false,
    "deletable": true,
    "editable": true
   },
   "outputs": [
    {
     "data": {
      "text/html": [
       "<div>\n",
       "<table border=\"1\" class=\"dataframe\">\n",
       "  <thead>\n",
       "    <tr style=\"text-align: right;\">\n",
       "      <th></th>\n",
       "      <th>fwd</th>\n",
       "      <th>rev</th>\n",
       "    </tr>\n",
       "  </thead>\n",
       "  <tbody>\n",
       "    <tr>\n",
       "      <th>72829</th>\n",
       "      <td>GGAATCTGATCATAAAG</td>\n",
       "      <td>CTTTATGATCAGATTCC</td>\n",
       "    </tr>\n",
       "    <tr>\n",
       "      <th>72852</th>\n",
       "      <td>CTCACACCCCTCAGGGC</td>\n",
       "      <td>GCCCTGAGGGGTGTGAG</td>\n",
       "    </tr>\n",
       "    <tr>\n",
       "      <th>72861</th>\n",
       "      <td>ACACGGTGCGCACAGCC</td>\n",
       "      <td>GGCTGTGCGCACCGTGT</td>\n",
       "    </tr>\n",
       "    <tr>\n",
       "      <th>72863</th>\n",
       "      <td>TGCGTGTGGGGTGTCCT</td>\n",
       "      <td>AGGACACCCCACACGCA</td>\n",
       "    </tr>\n",
       "    <tr>\n",
       "      <th>72888</th>\n",
       "      <td>CAGGGCCTCTAACAGCA</td>\n",
       "      <td>TGCTGTTAGAGGCCCTG</td>\n",
       "    </tr>\n",
       "    <tr>\n",
       "      <th>72905</th>\n",
       "      <td>GGAGCTGACCCAGCTGA</td>\n",
       "      <td>TCAGCTGGGTCAGCTCC</td>\n",
       "    </tr>\n",
       "    <tr>\n",
       "      <th>72945</th>\n",
       "      <td>ACCCCTTCCTAAGTGCT</td>\n",
       "      <td>AGCACTTAGGAAGGGGT</td>\n",
       "    </tr>\n",
       "    <tr>\n",
       "      <th>72955</th>\n",
       "      <td>TCGATGTTGGGGAACCC</td>\n",
       "      <td>GGGTTCCCCAACATCGA</td>\n",
       "    </tr>\n",
       "    <tr>\n",
       "      <th>72961</th>\n",
       "      <td>AAAGGAGGGATGGGTGG</td>\n",
       "      <td>CCACCCATCCCTCCTTT</td>\n",
       "    </tr>\n",
       "    <tr>\n",
       "      <th>73011</th>\n",
       "      <td>CCAGAGCATAATCTCCC</td>\n",
       "      <td>GGGAGATTATGCTCTGG</td>\n",
       "    </tr>\n",
       "    <tr>\n",
       "      <th>73026</th>\n",
       "      <td>GGCTGGTGCTGGAGAGG</td>\n",
       "      <td>CCTCTCCAGCACCAGCC</td>\n",
       "    </tr>\n",
       "    <tr>\n",
       "      <th>73030</th>\n",
       "      <td>TCTCATGGGCACTTACG</td>\n",
       "      <td>CGTAAGTGCCCATGAGA</td>\n",
       "    </tr>\n",
       "    <tr>\n",
       "      <th>73037</th>\n",
       "      <td>GGTCCCCGGGTGAGTGA</td>\n",
       "      <td>TCACTCACCCGGGGACC</td>\n",
       "    </tr>\n",
       "    <tr>\n",
       "      <th>73070</th>\n",
       "      <td>GTGTGCACACAGCTGTG</td>\n",
       "      <td>CACAGCTGTGTGCACAC</td>\n",
       "    </tr>\n",
       "    <tr>\n",
       "      <th>73095</th>\n",
       "      <td>CCTGGTCTATACCCGTG</td>\n",
       "      <td>CACGGGTATAGACCAGG</td>\n",
       "    </tr>\n",
       "  </tbody>\n",
       "</table>\n",
       "</div>"
      ],
      "text/plain": [
       "                     fwd                rev\n",
       "72829  GGAATCTGATCATAAAG  CTTTATGATCAGATTCC\n",
       "72852  CTCACACCCCTCAGGGC  GCCCTGAGGGGTGTGAG\n",
       "72861  ACACGGTGCGCACAGCC  GGCTGTGCGCACCGTGT\n",
       "72863  TGCGTGTGGGGTGTCCT  AGGACACCCCACACGCA\n",
       "72888  CAGGGCCTCTAACAGCA  TGCTGTTAGAGGCCCTG\n",
       "72905  GGAGCTGACCCAGCTGA  TCAGCTGGGTCAGCTCC\n",
       "72945  ACCCCTTCCTAAGTGCT  AGCACTTAGGAAGGGGT\n",
       "72955  TCGATGTTGGGGAACCC  GGGTTCCCCAACATCGA\n",
       "72961  AAAGGAGGGATGGGTGG  CCACCCATCCCTCCTTT\n",
       "73011  CCAGAGCATAATCTCCC  GGGAGATTATGCTCTGG\n",
       "73026  GGCTGGTGCTGGAGAGG  CCTCTCCAGCACCAGCC\n",
       "73030  TCTCATGGGCACTTACG  CGTAAGTGCCCATGAGA\n",
       "73037  GGTCCCCGGGTGAGTGA  TCACTCACCCGGGGACC\n",
       "73070  GTGTGCACACAGCTGTG  CACAGCTGTGTGCACAC\n",
       "73095  CCTGGTCTATACCCGTG  CACGGGTATAGACCAGG"
      ]
     },
     "execution_count": 30,
     "metadata": {},
     "output_type": "execute_result"
    }
   ],
   "source": [
    "rev_sequences = frm1[mask1] # Selecting only the ones that are reverse complement\n",
    "rev_sequences[-15:]"
   ]
  },
  {
   "cell_type": "markdown",
   "metadata": {
    "deletable": true,
    "editable": true
   },
   "source": [
    "Since all of the sequences in rev_sequences are present 2 times, I remove one of the entry so that only one copy remains. Below is the code that retains only one copy of the sequences."
   ]
  },
  {
   "cell_type": "code",
   "execution_count": 31,
   "metadata": {
    "collapsed": false,
    "deletable": true,
    "editable": true
   },
   "outputs": [
    {
     "name": "stdout",
     "output_type": "stream",
     "text": [
      "0 1990\n",
      "100 580\n",
      "500 503\n",
      "800 826\n",
      "900 2578\n",
      "1100 1475\n",
      "1200 1413\n",
      "1300 2261\n",
      "1400 1434\n",
      "1500 1596\n",
      "1600 1820\n",
      "1700 2529\n",
      "1800 2057\n",
      "2000 2078\n",
      "2100 2483\n",
      "2200 3241\n",
      "2300 2539\n",
      "2600 3895\n",
      "2800 2892\n",
      "3200 4511\n",
      "3400 4530\n",
      "3500 4217\n",
      "3600 3847\n",
      "3700 4215\n",
      "3800 4151\n",
      "4000 4456\n"
     ]
    }
   ],
   "source": [
    "non_match=[]\n",
    "for i in range(len(rev_sequences.fwd)):\n",
    "    for j in range (i,len(rev_sequences.rev)):\n",
    "        if (rev_sequences.iloc[i][0]==rev_sequences.iloc[j][1]):\n",
    "            \n",
    "            non_match.append(rev_sequences.index[i])\n",
    "            if (i%100==0):\n",
    "                print (i,j)\n",
    "            \n",
    "            "
   ]
  },
  {
   "cell_type": "code",
   "execution_count": 32,
   "metadata": {
    "collapsed": false,
    "deletable": true,
    "editable": true
   },
   "outputs": [
    {
     "data": {
      "text/plain": [
       "2317"
      ]
     },
     "execution_count": 32,
     "metadata": {},
     "output_type": "execute_result"
    }
   ],
   "source": [
    "len(non_match) # this is exactly half the sequences. It contains the indices that are reverse complments\n",
    "#these should be removed from  frm1."
   ]
  },
  {
   "cell_type": "code",
   "execution_count": 33,
   "metadata": {
    "collapsed": true,
    "deletable": true,
    "editable": true
   },
   "outputs": [],
   "source": [
    "#save file for the reverse complement\n",
    "filename = '/home/jigar/Desktop/nt_17/rev_comp_seq.txt'\n",
    "fid1 = open(filename,'w')\n",
    "for line in non_match:\n",
    "    fid1.write(str(line))\n",
    "    fid1.write('\\n')\n",
    "fid1.close()"
   ]
  },
  {
   "cell_type": "code",
   "execution_count": 38,
   "metadata": {
    "collapsed": false,
    "deletable": true,
    "editable": true
   },
   "outputs": [
    {
     "data": {
      "text/plain": [
       "2317"
      ]
     },
     "execution_count": 38,
     "metadata": {},
     "output_type": "execute_result"
    }
   ],
   "source": [
    "list3 = list (np.arange(len(frm1)))\n",
    "\n",
    "list4 = [list3.remove(x) for x in non_match]\n",
    "len(list4)"
   ]
  },
  {
   "cell_type": "code",
   "execution_count": 44,
   "metadata": {
    "collapsed": false,
    "deletable": true,
    "editable": true
   },
   "outputs": [
    {
     "data": {
      "text/html": [
       "<div>\n",
       "<table border=\"1\" class=\"dataframe\">\n",
       "  <thead>\n",
       "    <tr style=\"text-align: right;\">\n",
       "      <th></th>\n",
       "      <th>fwd</th>\n",
       "      <th>rev</th>\n",
       "    </tr>\n",
       "  </thead>\n",
       "  <tbody>\n",
       "    <tr>\n",
       "      <th>0</th>\n",
       "      <td>GGACCATTCCTTCAGGA</td>\n",
       "      <td>TCCTGAAGGAATGGTCC</td>\n",
       "    </tr>\n",
       "    <tr>\n",
       "      <th>1</th>\n",
       "      <td>CACTCAATACACGACTC</td>\n",
       "      <td>GAGTCGTGTATTGAGTG</td>\n",
       "    </tr>\n",
       "    <tr>\n",
       "      <th>2</th>\n",
       "      <td>ATGGGCCCAGGTAAGCA</td>\n",
       "      <td>TGCTTACCTGGGCCCAT</td>\n",
       "    </tr>\n",
       "    <tr>\n",
       "      <th>3</th>\n",
       "      <td>TTCTTCAGGATGGGCCC</td>\n",
       "      <td>GGGCCCATCCTGAAGAA</td>\n",
       "    </tr>\n",
       "    <tr>\n",
       "      <th>4</th>\n",
       "      <td>TCTGTATGATATCACAG</td>\n",
       "      <td>CTGTGATATCATACAGA</td>\n",
       "    </tr>\n",
       "  </tbody>\n",
       "</table>\n",
       "</div>"
      ],
      "text/plain": [
       "                 fwd                rev\n",
       "0  GGACCATTCCTTCAGGA  TCCTGAAGGAATGGTCC\n",
       "1  CACTCAATACACGACTC  GAGTCGTGTATTGAGTG\n",
       "2  ATGGGCCCAGGTAAGCA  TGCTTACCTGGGCCCAT\n",
       "3  TTCTTCAGGATGGGCCC  GGGCCCATCCTGAAGAA\n",
       "4  TCTGTATGATATCACAG  CTGTGATATCATACAGA"
      ]
     },
     "execution_count": 44,
     "metadata": {},
     "output_type": "execute_result"
    }
   ],
   "source": [
    "frm2 = frm1.loc[list3,:]\n",
    "frm2[:5]"
   ]
  },
  {
   "cell_type": "code",
   "execution_count": 46,
   "metadata": {
    "collapsed": true,
    "deletable": true,
    "editable": true
   },
   "outputs": [],
   "source": [
    "#saving the final list\n",
    "filename1 = '/home/jigar/Desktop/nt_17/no_rev_comp.fasta'\n",
    "fid2 =open(filename1,'w')\n",
    "for i,line in enumerate(frm2.fwd.values.tolist()):\n",
    "    fid2.write('>seq'+str(i)+'\\n')\n",
    "    fid2.write(line+'\\n')\n",
    "    \n",
    "fid2.close()"
   ]
  },
  {
   "cell_type": "markdown",
   "metadata": {
    "collapsed": true,
    "deletable": true,
    "editable": true
   },
   "source": [
    "In the next notebook we will align the remaining sequences back to human genome and confirm our analysis."
   ]
  },
  {
   "cell_type": "code",
   "execution_count": null,
   "metadata": {
    "collapsed": true,
    "deletable": true,
    "editable": true
   },
   "outputs": [],
   "source": []
  }
 ],
 "metadata": {
  "anaconda-cloud": {},
  "kernelspec": {
   "display_name": "Python 3",
   "language": "python",
   "name": "python3"
  },
  "language_info": {
   "codemirror_mode": {
    "name": "ipython",
    "version": 3
   },
   "file_extension": ".py",
   "mimetype": "text/x-python",
   "name": "python",
   "nbconvert_exporter": "python",
   "pygments_lexer": "ipython3",
   "version": "3.5.1"
  }
 },
 "nbformat": 4,
 "nbformat_minor": 1
}
