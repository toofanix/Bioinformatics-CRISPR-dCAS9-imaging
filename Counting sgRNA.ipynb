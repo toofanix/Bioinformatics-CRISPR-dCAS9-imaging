{
 "cells": [
  {
   "cell_type": "markdown",
   "metadata": {
    "deletable": true,
    "editable": true
   },
   "source": [
    "# Tandem Repeat analysis\n",
    "#### Written by Jigar N. Bandaria\n",
    "In this notebook I do further analysis of the sequences that were saved in the previous notebook 'sgRNA analysis 3'. Here the sequences that can form hotspots are further analyzed, and only those that are repeated 4 times within 10kbp window are kept, while the remaining sequences are removed."
   ]
  },
  {
   "cell_type": "code",
   "execution_count": 1,
   "metadata": {
    "collapsed": true,
    "deletable": true,
    "editable": true
   },
   "outputs": [],
   "source": [
    "%matplotlib inline\n",
    "import pandas as pd\n",
    "import numpy as np\n",
    "import os"
   ]
  },
  {
   "cell_type": "markdown",
   "metadata": {
    "deletable": true,
    "editable": true
   },
   "source": [
    "Let's first do some preliminary analysis on chr9 and then we can apply the analysis to all chromosomes."
   ]
  },
  {
   "cell_type": "code",
   "execution_count": 2,
   "metadata": {
    "collapsed": false,
    "deletable": true,
    "editable": true
   },
   "outputs": [
    {
     "name": "stdout",
     "output_type": "stream",
     "text": [
      "chr9 : 271391 : 51593\n"
     ]
    }
   ],
   "source": [
    "file_path = \"/home/user/Desktop/nt_17/chrom_only/\"\n",
    "filename = file_path+\"chr9\"+\"_4more.fa\"\n",
    "tmp1 = pd.read_csv(filename,header=None,sep='\\t',names=['Sequence','Chromosome','Position'])\n",
    "x = \"chr9\"   \n",
    "print(\"{0} : {1} : {2}\".format(x,len(tmp1),len(tmp1.Sequence.value_counts())))\n",
    "\n",
    "#This is exactly what we had obtained in the previous notebook."
   ]
  },
  {
   "cell_type": "markdown",
   "metadata": {
    "deletable": true,
    "editable": true
   },
   "source": [
    "Right now the Position column contains the start position, stop position and strand information all togehter (123165-123182(+)). I will use regex to separate them in to 3 columns."
   ]
  },
  {
   "cell_type": "code",
   "execution_count": 3,
   "metadata": {
    "collapsed": false,
    "deletable": true,
    "editable": true
   },
   "outputs": [
    {
     "data": {
      "text/plain": [
       "Sequence      object\n",
       "Chromosome    object\n",
       "Start          int32\n",
       "Stop           int32\n",
       "Strand        object\n",
       "dtype: object"
      ]
     },
     "execution_count": 3,
     "metadata": {},
     "output_type": "execute_result"
    }
   ],
   "source": [
    "import re\n",
    "j1 =np.asarray([re.compile('(?<=[0-9-+])[-()]').split(x)[:3] for x in tmp1.Position.tolist()])\n",
    "\n",
    "tmp2 = pd.DataFrame(j1,columns=['Start','Stop','Strand'])\n",
    "\n",
    "tmp2[['Start','Stop']]=tmp2[['Start','Stop']].astype(np.int32)\n",
    "\n",
    "data=pd.concat([tmp1,tmp2],axis=1)\n",
    "del data['Position']\n",
    "data.dtypes"
   ]
  },
  {
   "cell_type": "code",
   "execution_count": 4,
   "metadata": {
    "collapsed": false,
    "deletable": true,
    "editable": true
   },
   "outputs": [
    {
     "data": {
      "text/html": [
       "<div>\n",
       "<table border=\"1\" class=\"dataframe\">\n",
       "  <thead>\n",
       "    <tr style=\"text-align: right;\">\n",
       "      <th></th>\n",
       "      <th>Sequence</th>\n",
       "      <th>Chromosome</th>\n",
       "      <th>Start</th>\n",
       "      <th>Stop</th>\n",
       "      <th>Strand</th>\n",
       "    </tr>\n",
       "  </thead>\n",
       "  <tbody>\n",
       "    <tr>\n",
       "      <th>0</th>\n",
       "      <td>GGGGTCCTTAGTGGAGG</td>\n",
       "      <td>chr9</td>\n",
       "      <td>51934</td>\n",
       "      <td>51951</td>\n",
       "      <td>-</td>\n",
       "    </tr>\n",
       "    <tr>\n",
       "      <th>1</th>\n",
       "      <td>GGGGGTCCTTAGTGGAG</td>\n",
       "      <td>chr9</td>\n",
       "      <td>51935</td>\n",
       "      <td>51952</td>\n",
       "      <td>-</td>\n",
       "    </tr>\n",
       "    <tr>\n",
       "      <th>2</th>\n",
       "      <td>TGGGGGTCCTTAGTGGA</td>\n",
       "      <td>chr9</td>\n",
       "      <td>51936</td>\n",
       "      <td>51953</td>\n",
       "      <td>-</td>\n",
       "    </tr>\n",
       "    <tr>\n",
       "      <th>3</th>\n",
       "      <td>AGTTTGGGGGTCCTTAG</td>\n",
       "      <td>chr9</td>\n",
       "      <td>51940</td>\n",
       "      <td>51957</td>\n",
       "      <td>-</td>\n",
       "    </tr>\n",
       "    <tr>\n",
       "      <th>4</th>\n",
       "      <td>AGGCATATCCTATTTAC</td>\n",
       "      <td>chr9</td>\n",
       "      <td>52844</td>\n",
       "      <td>52861</td>\n",
       "      <td>-</td>\n",
       "    </tr>\n",
       "  </tbody>\n",
       "</table>\n",
       "</div>"
      ],
      "text/plain": [
       "            Sequence Chromosome  Start   Stop Strand\n",
       "0  GGGGTCCTTAGTGGAGG       chr9  51934  51951      -\n",
       "1  GGGGGTCCTTAGTGGAG       chr9  51935  51952      -\n",
       "2  TGGGGGTCCTTAGTGGA       chr9  51936  51953      -\n",
       "3  AGTTTGGGGGTCCTTAG       chr9  51940  51957      -\n",
       "4  AGGCATATCCTATTTAC       chr9  52844  52861      -"
      ]
     },
     "execution_count": 4,
     "metadata": {},
     "output_type": "execute_result"
    }
   ],
   "source": [
    "data.head() #Position is separated into 3 columns"
   ]
  },
  {
   "cell_type": "markdown",
   "metadata": {
    "deletable": true,
    "editable": true
   },
   "source": [
    "Next we group the data by sequences and start position. "
   ]
  },
  {
   "cell_type": "code",
   "execution_count": 6,
   "metadata": {
    "collapsed": false,
    "deletable": true,
    "editable": true
   },
   "outputs": [
    {
     "data": {
      "text/plain": [
       "Sequence\n",
       "AAAAAAAACTGTGGGGA             [39210382, 39739600, 40553742, 43765994]\n",
       "AAAAAAAAGCAGCTCAC             [39229939, 39759162, 40573179, 43746558]\n",
       "AAAAAAAAGGGGGAACA    [39543872, 40871738, 41140449, 41211833, 41688...\n",
       "AAAAAAACCACAGGGCA             [42362338, 43139552, 67920737, 69375965]\n",
       "AAAAAAAGAGGAGCTGG    [44851184, 45018920, 45754365, 46140695, 46363...\n",
       "AAAAAAAGCAAGCCCTT    [44782288, 45088713, 46209777, 46294488, 67703...\n",
       "AAAAAAAGCTCTAGCCT             [41884157, 44474005, 46914567, 65975198]\n",
       "AAAAAAATGAGGGTGGC    [42309493, 43192309, 45382476, 68351980, 70704...\n",
       "AAAAAAATGCCAGTAGC    [39423308, 39952550, 40768023, 41262916, 41568...\n",
       "AAAAAACACAGGGGCAT    [38966529, 40136258, 44734615, 47194231, 65765...\n",
       "Name: Start, dtype: object"
      ]
     },
     "execution_count": 6,
     "metadata": {},
     "output_type": "execute_result"
    }
   ],
   "source": [
    "grp1=data.groupby(['Sequence'])['Start'].unique()\n",
    "grp2=grp1[:10]\n",
    "grp2"
   ]
  },
  {
   "cell_type": "code",
   "execution_count": 7,
   "metadata": {
    "collapsed": false,
    "deletable": true,
    "editable": true
   },
   "outputs": [],
   "source": [
    "#This is for a 10 kbp window. Here are checking if the max-min in the above grouped data (for start position) is within\n",
    "# 10 kbp window.\n",
    "mask2= [(np.max(x)-np.min(x))<10000 for x in grp1]"
   ]
  },
  {
   "cell_type": "code",
   "execution_count": 8,
   "metadata": {
    "collapsed": false,
    "deletable": true,
    "editable": true
   },
   "outputs": [
    {
     "data": {
      "text/plain": [
       "3161"
      ]
     },
     "execution_count": 8,
     "metadata": {},
     "output_type": "execute_result"
    }
   ],
   "source": [
    "np.sum(mask2) # Thus based on 10 kbp window  these are the number of hotspots."
   ]
  },
  {
   "cell_type": "code",
   "execution_count": 10,
   "metadata": {
    "collapsed": false,
    "deletable": true,
    "editable": true
   },
   "outputs": [
    {
     "data": {
      "text/plain": [
       "3161"
      ]
     },
     "execution_count": 10,
     "metadata": {},
     "output_type": "execute_result"
    }
   ],
   "source": [
    "remain = grp1.index[mask2]\n",
    "len(remain)"
   ]
  },
  {
   "cell_type": "code",
   "execution_count": 11,
   "metadata": {
    "collapsed": false,
    "deletable": true,
    "editable": true
   },
   "outputs": [
    {
     "name": "stdout",
     "output_type": "stream",
     "text": [
      "              Sequence Chromosome   Start    Stop Strand\n",
      "307  CTCTGATCACAGAACCT       chr9  320115  320132      -\n",
      "308  TCTCTGATCACAGAACC       chr9  320116  320133      -\n",
      "309  ACTCACGGAAAAAGCCC       chr9  320098  320115      +\n",
      "310  GGTTCTGTGATCAGAGA       chr9  320116  320133      +\n",
      "311  CTGTGATCAGAGATGGC       chr9  320120  320137      +\n",
      "22588\n"
     ]
    }
   ],
   "source": [
    "#We now collect the sequences that are within 10 kbp window.\n",
    "in_10kb = data[data.Sequence.isin(remain)] \n",
    "print(in_10kb.head())\n",
    "print(len(in_10kb))"
   ]
  },
  {
   "cell_type": "code",
   "execution_count": 12,
   "metadata": {
    "collapsed": false,
    "deletable": true,
    "editable": true
   },
   "outputs": [
    {
     "data": {
      "text/html": [
       "<div>\n",
       "<table border=\"1\" class=\"dataframe\">\n",
       "  <thead>\n",
       "    <tr style=\"text-align: right;\">\n",
       "      <th></th>\n",
       "      <th></th>\n",
       "      <th></th>\n",
       "      <th>Chromosome</th>\n",
       "      <th>Strand</th>\n",
       "    </tr>\n",
       "    <tr>\n",
       "      <th>Sequence</th>\n",
       "      <th>Start</th>\n",
       "      <th>Stop</th>\n",
       "      <th></th>\n",
       "      <th></th>\n",
       "    </tr>\n",
       "  </thead>\n",
       "  <tbody>\n",
       "    <tr>\n",
       "      <th>TTTGCCCACGACCAGCC</th>\n",
       "      <th>115851834</th>\n",
       "      <th>115851851</th>\n",
       "      <td>chr9</td>\n",
       "      <td>+</td>\n",
       "    </tr>\n",
       "    <tr>\n",
       "      <th rowspan=\"6\" valign=\"top\">TTTGCGCCCGCTCCTGG</th>\n",
       "      <th>115822375</th>\n",
       "      <th>115822392</th>\n",
       "      <td>chr9</td>\n",
       "      <td>-</td>\n",
       "    </tr>\n",
       "    <tr>\n",
       "      <th>115827824</th>\n",
       "      <th>115827841</th>\n",
       "      <td>chr9</td>\n",
       "      <td>-</td>\n",
       "    </tr>\n",
       "    <tr>\n",
       "      <th>115833272</th>\n",
       "      <th>115833289</th>\n",
       "      <td>chr9</td>\n",
       "      <td>-</td>\n",
       "    </tr>\n",
       "    <tr>\n",
       "      <th>115838718</th>\n",
       "      <th>115838735</th>\n",
       "      <td>chr9</td>\n",
       "      <td>-</td>\n",
       "    </tr>\n",
       "    <tr>\n",
       "      <th>115844160</th>\n",
       "      <th>115844177</th>\n",
       "      <td>chr9</td>\n",
       "      <td>-</td>\n",
       "    </tr>\n",
       "    <tr>\n",
       "      <th>115849606</th>\n",
       "      <th>115849623</th>\n",
       "      <td>chr9</td>\n",
       "      <td>-</td>\n",
       "    </tr>\n",
       "    <tr>\n",
       "      <th rowspan=\"4\" valign=\"top\">TTTGCTCCTTTTCCTTG</th>\n",
       "      <th>137918977</th>\n",
       "      <th>137918994</th>\n",
       "      <td>chr9</td>\n",
       "      <td>-</td>\n",
       "    </tr>\n",
       "    <tr>\n",
       "      <th>137919015</th>\n",
       "      <th>137919032</th>\n",
       "      <td>chr9</td>\n",
       "      <td>-</td>\n",
       "    </tr>\n",
       "    <tr>\n",
       "      <th>137919053</th>\n",
       "      <th>137919070</th>\n",
       "      <td>chr9</td>\n",
       "      <td>-</td>\n",
       "    </tr>\n",
       "    <tr>\n",
       "      <th>137919091</th>\n",
       "      <th>137919108</th>\n",
       "      <td>chr9</td>\n",
       "      <td>-</td>\n",
       "    </tr>\n",
       "    <tr>\n",
       "      <th rowspan=\"4\" valign=\"top\">TTTGGGCATGACCTAGT</th>\n",
       "      <th>21182132</th>\n",
       "      <th>21182149</th>\n",
       "      <td>chr9</td>\n",
       "      <td>-</td>\n",
       "    </tr>\n",
       "    <tr>\n",
       "      <th>21194191</th>\n",
       "      <th>21194208</th>\n",
       "      <td>chr9</td>\n",
       "      <td>-</td>\n",
       "    </tr>\n",
       "    <tr>\n",
       "      <th>21212726</th>\n",
       "      <th>21212743</th>\n",
       "      <td>chr9</td>\n",
       "      <td>-</td>\n",
       "    </tr>\n",
       "    <tr>\n",
       "      <th>21234787</th>\n",
       "      <th>21234804</th>\n",
       "      <td>chr9</td>\n",
       "      <td>-</td>\n",
       "    </tr>\n",
       "    <tr>\n",
       "      <th rowspan=\"4\" valign=\"top\">TTTGGGGAATGGCAGGC</th>\n",
       "      <th>17455732</th>\n",
       "      <th>17455749</th>\n",
       "      <td>chr9</td>\n",
       "      <td>+</td>\n",
       "    </tr>\n",
       "    <tr>\n",
       "      <th>17455752</th>\n",
       "      <th>17455769</th>\n",
       "      <td>chr9</td>\n",
       "      <td>+</td>\n",
       "    </tr>\n",
       "    <tr>\n",
       "      <th>17455772</th>\n",
       "      <th>17455789</th>\n",
       "      <td>chr9</td>\n",
       "      <td>+</td>\n",
       "    </tr>\n",
       "    <tr>\n",
       "      <th>17455812</th>\n",
       "      <th>17455829</th>\n",
       "      <td>chr9</td>\n",
       "      <td>+</td>\n",
       "    </tr>\n",
       "    <tr>\n",
       "      <th rowspan=\"6\" valign=\"top\">TTTGTGCCTGGACGCAG</th>\n",
       "      <th>115823313</th>\n",
       "      <th>115823330</th>\n",
       "      <td>chr9</td>\n",
       "      <td>+</td>\n",
       "    </tr>\n",
       "    <tr>\n",
       "      <th>115828762</th>\n",
       "      <th>115828779</th>\n",
       "      <td>chr9</td>\n",
       "      <td>+</td>\n",
       "    </tr>\n",
       "    <tr>\n",
       "      <th>115834212</th>\n",
       "      <th>115834229</th>\n",
       "      <td>chr9</td>\n",
       "      <td>+</td>\n",
       "    </tr>\n",
       "    <tr>\n",
       "      <th>115839656</th>\n",
       "      <th>115839673</th>\n",
       "      <td>chr9</td>\n",
       "      <td>+</td>\n",
       "    </tr>\n",
       "    <tr>\n",
       "      <th>115845098</th>\n",
       "      <th>115845115</th>\n",
       "      <td>chr9</td>\n",
       "      <td>+</td>\n",
       "    </tr>\n",
       "    <tr>\n",
       "      <th>115850544</th>\n",
       "      <th>115850561</th>\n",
       "      <td>chr9</td>\n",
       "      <td>+</td>\n",
       "    </tr>\n",
       "    <tr>\n",
       "      <th rowspan=\"4\" valign=\"top\">TTTGTTGGAACTAAGGA</th>\n",
       "      <th>84532701</th>\n",
       "      <th>84532718</th>\n",
       "      <td>chr9</td>\n",
       "      <td>-</td>\n",
       "    </tr>\n",
       "    <tr>\n",
       "      <th>84547747</th>\n",
       "      <th>84547764</th>\n",
       "      <td>chr9</td>\n",
       "      <td>-</td>\n",
       "    </tr>\n",
       "    <tr>\n",
       "      <th>84562839</th>\n",
       "      <th>84562856</th>\n",
       "      <td>chr9</td>\n",
       "      <td>-</td>\n",
       "    </tr>\n",
       "    <tr>\n",
       "      <th>84608065</th>\n",
       "      <th>84608082</th>\n",
       "      <td>chr9</td>\n",
       "      <td>-</td>\n",
       "    </tr>\n",
       "    <tr>\n",
       "      <th rowspan=\"9\" valign=\"top\">TTTGTTGGGTGCAGTGG</th>\n",
       "      <th>137602352</th>\n",
       "      <th>137602369</th>\n",
       "      <td>chr9</td>\n",
       "      <td>+</td>\n",
       "    </tr>\n",
       "    <tr>\n",
       "      <th>137602385</th>\n",
       "      <th>137602402</th>\n",
       "      <td>chr9</td>\n",
       "      <td>+</td>\n",
       "    </tr>\n",
       "    <tr>\n",
       "      <th>137602415</th>\n",
       "      <th>137602432</th>\n",
       "      <td>chr9</td>\n",
       "      <td>+</td>\n",
       "    </tr>\n",
       "    <tr>\n",
       "      <th>137602444</th>\n",
       "      <th>137602461</th>\n",
       "      <td>chr9</td>\n",
       "      <td>+</td>\n",
       "    </tr>\n",
       "    <tr>\n",
       "      <th>137602477</th>\n",
       "      <th>137602494</th>\n",
       "      <td>chr9</td>\n",
       "      <td>+</td>\n",
       "    </tr>\n",
       "    <tr>\n",
       "      <th>137602573</th>\n",
       "      <th>137602590</th>\n",
       "      <td>chr9</td>\n",
       "      <td>+</td>\n",
       "    </tr>\n",
       "    <tr>\n",
       "      <th>137602735</th>\n",
       "      <th>137602752</th>\n",
       "      <td>chr9</td>\n",
       "      <td>+</td>\n",
       "    </tr>\n",
       "    <tr>\n",
       "      <th>137602834</th>\n",
       "      <th>137602851</th>\n",
       "      <td>chr9</td>\n",
       "      <td>+</td>\n",
       "    </tr>\n",
       "    <tr>\n",
       "      <th>137602863</th>\n",
       "      <th>137602880</th>\n",
       "      <td>chr9</td>\n",
       "      <td>+</td>\n",
       "    </tr>\n",
       "    <tr>\n",
       "      <th rowspan=\"4\" valign=\"top\">TTTTCCACTCAGCTCTG</th>\n",
       "      <th>84532048</th>\n",
       "      <th>84532065</th>\n",
       "      <td>chr9</td>\n",
       "      <td>+</td>\n",
       "    </tr>\n",
       "    <tr>\n",
       "      <th>84547094</th>\n",
       "      <th>84547111</th>\n",
       "      <td>chr9</td>\n",
       "      <td>+</td>\n",
       "    </tr>\n",
       "    <tr>\n",
       "      <th>84562186</th>\n",
       "      <th>84562203</th>\n",
       "      <td>chr9</td>\n",
       "      <td>+</td>\n",
       "    </tr>\n",
       "    <tr>\n",
       "      <th>84607412</th>\n",
       "      <th>84607429</th>\n",
       "      <td>chr9</td>\n",
       "      <td>+</td>\n",
       "    </tr>\n",
       "    <tr>\n",
       "      <th rowspan=\"4\" valign=\"top\">TTTTGACCTCAACGTTG</th>\n",
       "      <th>84535368</th>\n",
       "      <th>84535385</th>\n",
       "      <td>chr9</td>\n",
       "      <td>+</td>\n",
       "    </tr>\n",
       "    <tr>\n",
       "      <th>84550440</th>\n",
       "      <th>84550457</th>\n",
       "      <td>chr9</td>\n",
       "      <td>+</td>\n",
       "    </tr>\n",
       "    <tr>\n",
       "      <th>84565535</th>\n",
       "      <th>84565552</th>\n",
       "      <td>chr9</td>\n",
       "      <td>+</td>\n",
       "    </tr>\n",
       "    <tr>\n",
       "      <th>84610692</th>\n",
       "      <th>84610709</th>\n",
       "      <td>chr9</td>\n",
       "      <td>+</td>\n",
       "    </tr>\n",
       "    <tr>\n",
       "      <th rowspan=\"4\" valign=\"top\">TTTTGACTTGTCTCTCC</th>\n",
       "      <th>84531265</th>\n",
       "      <th>84531282</th>\n",
       "      <td>chr9</td>\n",
       "      <td>-</td>\n",
       "    </tr>\n",
       "    <tr>\n",
       "      <th>84546311</th>\n",
       "      <th>84546328</th>\n",
       "      <td>chr9</td>\n",
       "      <td>-</td>\n",
       "    </tr>\n",
       "    <tr>\n",
       "      <th>84561403</th>\n",
       "      <th>84561420</th>\n",
       "      <td>chr9</td>\n",
       "      <td>-</td>\n",
       "    </tr>\n",
       "    <tr>\n",
       "      <th>84606629</th>\n",
       "      <th>84606646</th>\n",
       "      <td>chr9</td>\n",
       "      <td>-</td>\n",
       "    </tr>\n",
       "  </tbody>\n",
       "</table>\n",
       "</div>"
      ],
      "text/plain": [
       "                                      Chromosome Strand\n",
       "Sequence          Start     Stop                       \n",
       "TTTGCCCACGACCAGCC 115851834 115851851       chr9      +\n",
       "TTTGCGCCCGCTCCTGG 115822375 115822392       chr9      -\n",
       "                  115827824 115827841       chr9      -\n",
       "                  115833272 115833289       chr9      -\n",
       "                  115838718 115838735       chr9      -\n",
       "                  115844160 115844177       chr9      -\n",
       "                  115849606 115849623       chr9      -\n",
       "TTTGCTCCTTTTCCTTG 137918977 137918994       chr9      -\n",
       "                  137919015 137919032       chr9      -\n",
       "                  137919053 137919070       chr9      -\n",
       "                  137919091 137919108       chr9      -\n",
       "TTTGGGCATGACCTAGT 21182132  21182149        chr9      -\n",
       "                  21194191  21194208        chr9      -\n",
       "                  21212726  21212743        chr9      -\n",
       "                  21234787  21234804        chr9      -\n",
       "TTTGGGGAATGGCAGGC 17455732  17455749        chr9      +\n",
       "                  17455752  17455769        chr9      +\n",
       "                  17455772  17455789        chr9      +\n",
       "                  17455812  17455829        chr9      +\n",
       "TTTGTGCCTGGACGCAG 115823313 115823330       chr9      +\n",
       "                  115828762 115828779       chr9      +\n",
       "                  115834212 115834229       chr9      +\n",
       "                  115839656 115839673       chr9      +\n",
       "                  115845098 115845115       chr9      +\n",
       "                  115850544 115850561       chr9      +\n",
       "TTTGTTGGAACTAAGGA 84532701  84532718        chr9      -\n",
       "                  84547747  84547764        chr9      -\n",
       "                  84562839  84562856        chr9      -\n",
       "                  84608065  84608082        chr9      -\n",
       "TTTGTTGGGTGCAGTGG 137602352 137602369       chr9      +\n",
       "                  137602385 137602402       chr9      +\n",
       "                  137602415 137602432       chr9      +\n",
       "                  137602444 137602461       chr9      +\n",
       "                  137602477 137602494       chr9      +\n",
       "                  137602573 137602590       chr9      +\n",
       "                  137602735 137602752       chr9      +\n",
       "                  137602834 137602851       chr9      +\n",
       "                  137602863 137602880       chr9      +\n",
       "TTTTCCACTCAGCTCTG 84532048  84532065        chr9      +\n",
       "                  84547094  84547111        chr9      +\n",
       "                  84562186  84562203        chr9      +\n",
       "                  84607412  84607429        chr9      +\n",
       "TTTTGACCTCAACGTTG 84535368  84535385        chr9      +\n",
       "                  84550440  84550457        chr9      +\n",
       "                  84565535  84565552        chr9      +\n",
       "                  84610692  84610709        chr9      +\n",
       "TTTTGACTTGTCTCTCC 84531265  84531282        chr9      -\n",
       "                  84546311  84546328        chr9      -\n",
       "                  84561403  84561420        chr9      -\n",
       "                  84606629  84606646        chr9      -"
      ]
     },
     "execution_count": 12,
     "metadata": {},
     "output_type": "execute_result"
    }
   ],
   "source": [
    "#Checking the last 50 entries in the dataframe.\n",
    "in_10kb.groupby(['Sequence','Start','Stop']).sum().tail(50)"
   ]
  },
  {
   "cell_type": "markdown",
   "metadata": {
    "collapsed": false,
    "deletable": true,
    "editable": true
   },
   "source": [
    "The preliminary analysis on chr9 works well. So below I wrote a function to repeat the analysis on all the chromosomes."
   ]
  },
  {
   "cell_type": "code",
   "execution_count": 13,
   "metadata": {
    "collapsed": false,
    "deletable": true,
    "editable": true
   },
   "outputs": [
    {
     "name": "stdout",
     "output_type": "stream",
     "text": [
      "Chrom : Reads : Hotspots : HS_in100kb\n",
      "chr1 : 168852 : 22919 : 5847\n",
      "chr2 : 95715 : 14935 : 5034\n",
      "chr3 : 17838 : 2054 : 1650\n",
      "chr4 : 41252 : 4405 : 3279\n",
      "chr5 : 65095 : 9281 : 3133\n",
      "chr6 : 32262 : 4602 : 3290\n",
      "chr7 : 108754 : 17362 : 4822\n",
      "chr8 : 64918 : 7933 : 3996\n",
      "chr9 : 271391 : 51593 : 3161\n",
      "chr10 : 118367 : 20675 : 4682\n",
      "chr11 : 33668 : 5162 : 2702\n",
      "chr12 : 28501 : 3468 : 2910\n",
      "chr13 : 27791 : 3377 : 3128\n",
      "chr14 : 19806 : 3161 : 1238\n",
      "chr15 : 129763 : 22458 : 996\n",
      "chr16 : 103819 : 17726 : 3052\n",
      "chr17 : 98052 : 16520 : 3614\n",
      "chr18 : 19003 : 2308 : 2274\n",
      "chr19 : 95626 : 13207 : 5177\n",
      "chr20 : 18169 : 2570 : 2199\n",
      "chr21 : 11412 : 1627 : 1538\n",
      "chr22 : 49912 : 8067 : 2085\n",
      "chrX : 82399 : 13193 : 2645\n",
      "chrY : 154979 : 28816 : 660\n"
     ]
    }
   ],
   "source": [
    "import re\n",
    "chr_num = ['chr1','chr2','chr3','chr4','chr5','chr6','chr7','chr8','chr9','chr10',\n",
    "           'chr11','chr12','chr13','chr14','chr15','chr16','chr17','chr18','chr19','chr20',\n",
    "           'chr21','chr22','chrX','chrY']\n",
    "#chr_num = ['chr1','chr2','chr3']\n",
    "print(\"Chrom : Reads : Hotspots : HS_in100kb\")\n",
    "for x in chr_num:\n",
    "    filename = \"/home/jigar/Desktop/nt_17/chrom_only/\"+x+\"_4more.fa\"\n",
    "    tmp1 = pd.read_csv(filename,header=None,sep='\\t',names=['Sequence','Chromosome','Position'])\n",
    "    \n",
    "    \n",
    "    j1 =np.asarray([re.compile('(?<=[0-9-+])[-()]').split(x)[:3] for x in tmp1.Position.tolist()])\n",
    "\n",
    "    tmp2 = pd.DataFrame(j1,columns=['Start','Stop','Strand'])\n",
    "\n",
    "    tmp2[['Start','Stop']]=tmp2[['Start','Stop']].astype(np.int32)\n",
    "\n",
    "    data=pd.concat([tmp1,tmp2],axis=1)\n",
    "    del data['Position']\n",
    "    \n",
    "    grp1=data.groupby(['Sequence'])['Start'].unique()\n",
    "    mask2= [np.max(x)-np.min(x)<10000 for x in grp1] #CHANGE THIS FOR 1000 or 10000\n",
    "    remain = grp1.index[mask2]\n",
    "    in_100kb = data[data.Sequence.isin(remain)]\n",
    "\n",
    "    file1 = \"/home/jigar/Desktop/nt_17/chrom_only/\"+ x + \"_with_overlap.fa\"\n",
    "\n",
    "    in_100kb.to_csv(file1,header=None,index=None,sep='\\t')\n",
    "    \n",
    "    print(\"{0} : {1} : {2} : {3}\".format(x,len(tmp1),len(tmp1.Sequence.value_counts()),len(in_100kb.Sequence.value_counts())))\n",
    "    \n"
   ]
  },
  {
   "cell_type": "markdown",
   "metadata": {
    "collapsed": false,
    "deletable": true,
    "editable": true
   },
   "source": [
    "The table above give us the total sequences present on a chromosome, and the number of hotspots formed overall and within 10 kbp window.\n",
    "\n",
    "The data for each chromosome is saved for further analysis."
   ]
  },
  {
   "cell_type": "code",
   "execution_count": null,
   "metadata": {
    "collapsed": true,
    "deletable": true,
    "editable": true
   },
   "outputs": [],
   "source": []
  }
 ],
 "metadata": {
  "anaconda-cloud": {},
  "kernelspec": {
   "display_name": "Python 3",
   "language": "python",
   "name": "python3"
  },
  "language_info": {
   "codemirror_mode": {
    "name": "ipython",
    "version": 3
   },
   "file_extension": ".py",
   "mimetype": "text/x-python",
   "name": "python",
   "nbconvert_exporter": "python",
   "pygments_lexer": "ipython3",
   "version": "3.5.1"
  }
 },
 "nbformat": 4,
 "nbformat_minor": 1
}
